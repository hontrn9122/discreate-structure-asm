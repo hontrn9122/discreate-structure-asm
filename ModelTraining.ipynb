{
 "cells": [
  {
   "cell_type": "code",
   "execution_count": 1,
   "source": [
    "import numpy as np \r\n",
    "import pandas as pd \r\n",
    "import matplotlib.pyplot as plt \r\n",
    "import seaborn as sns \r\n",
    "%matplotlib inline\r\n",
    "from pgmpy.models import BayesianModel\r\n",
    "from pgmpy.estimators import MaximumLikelihoodEstimator\r\n",
    "from pgmpy.inference import VariableElimination"
   ],
   "outputs": [],
   "metadata": {}
  },
  {
   "cell_type": "code",
   "execution_count": 2,
   "source": [
    "matches = pd.read_csv(r\"Matches.csv\")\r\n",
    "cups = pd.read_csv(r\"cups.csv\")\r\n",
    "raw = pd.read_csv(r\"RawFullData.csv\")\r\n",
    "FullData = pd.read_csv(r\"FullData.csv\")\r\n",
    "Train1 = pd.read_csv(r\"Train.csv\")\r\n",
    "Train2 = pd.read_csv(r\"Train.csv\")\r\n",
    "Test = pd.read_csv(r\"Test.csv\")\r\n",
    "MatchesTrain = pd.read_csv(r\"MatchesTrain.csv\")\r\n",
    "MatchesTest = pd.read_csv(r\"MatchesTest.csv\")"
   ],
   "outputs": [],
   "metadata": {}
  },
  {
   "cell_type": "code",
   "execution_count": 3,
   "source": [
    "FullData = FullData.set_index('Year')\r\n",
    "Train1 = Train1.set_index('Year')\r\n",
    "Train2 = Train2.set_index('Year')\r\n",
    "Test = Test.set_index('Year')\r\n",
    "del MatchesTrain['Year']\r\n",
    "del MatchesTrain['Unnamed: 0']\r\n",
    "del MatchesTest['Year']\r\n",
    "del MatchesTest['Unnamed: 0']"
   ],
   "outputs": [],
   "metadata": {}
  },
  {
   "cell_type": "code",
   "execution_count": 4,
   "source": [
    "Static = raw\r\n",
    "del Static['Year']\r\n",
    "Static=Static.groupby('Country').agg({'Matches': ['sum']})\r\n",
    "Static.columns = ['MatchesSum']\r\n",
    "cupsStatic = cups.groupby(['Champion']).agg({'Host': ['size'],})\r\n",
    "cupsStatic.columns = ['ChampionTimes']\r\n",
    "Static = pd.concat([Static, cupsStatic], axis=1)\r\n",
    "Static.ChampionTimes = Static.ChampionTimes.fillna(0)\r\n",
    "Static.sort_values(by='MatchesSum',ascending=False)"
   ],
   "outputs": [
    {
     "output_type": "execute_result",
     "data": {
      "text/plain": [
       "                     MatchesSum  ChampionTimes\n",
       "Germany                    49.0            3.0\n",
       "Spain                      40.0            3.0\n",
       "France                     39.0            2.0\n",
       "Italy                      38.0            1.0\n",
       "Netherlands                35.0            1.0\n",
       "Portugal                   35.0            1.0\n",
       "England                    31.0            0.0\n",
       "Russia                     30.0            1.0\n",
       "Denmark                    27.0            1.0\n",
       "Czech Republic             24.0            0.0\n",
       "Sweden                     20.0            0.0\n",
       "Croatia                    18.0            0.0\n",
       "Belgium                    17.0            0.0\n",
       "Greece                     16.0            1.0\n",
       "Romania                    16.0            0.0\n",
       "Turkey                     15.0            0.0\n",
       "Switzerland                13.0            0.0\n",
       "Poland                     11.0            0.0\n",
       "Republic of Ireland        10.0            0.0\n",
       "Yugoslavia                 10.0            0.0\n",
       "Hungary                     8.0            0.0\n",
       "Czechoslovakia              8.0            1.0\n",
       "Austria                     6.0            0.0\n",
       "Scotland                    6.0            0.0\n",
       "Bulgaria                    6.0            0.0\n",
       "Ukraine                     6.0            0.0\n",
       "Wales                       6.0            0.0\n",
       "Iceland                     5.0            0.0\n",
       "Northern Ireland            4.0            0.0\n",
       "Slovakia                    4.0            0.0\n",
       "FR Yugoslavia               4.0            0.0\n",
       "Norway                      3.0            0.0\n",
       "Latvia                      3.0            0.0\n",
       "Slovenia                    3.0            0.0\n",
       "CIS                         3.0            0.0\n",
       "Albania                     3.0            0.0"
      ],
      "text/html": [
       "<div>\n",
       "<style scoped>\n",
       "    .dataframe tbody tr th:only-of-type {\n",
       "        vertical-align: middle;\n",
       "    }\n",
       "\n",
       "    .dataframe tbody tr th {\n",
       "        vertical-align: top;\n",
       "    }\n",
       "\n",
       "    .dataframe thead th {\n",
       "        text-align: right;\n",
       "    }\n",
       "</style>\n",
       "<table border=\"1\" class=\"dataframe\">\n",
       "  <thead>\n",
       "    <tr style=\"text-align: right;\">\n",
       "      <th></th>\n",
       "      <th>MatchesSum</th>\n",
       "      <th>ChampionTimes</th>\n",
       "    </tr>\n",
       "  </thead>\n",
       "  <tbody>\n",
       "    <tr>\n",
       "      <th>Germany</th>\n",
       "      <td>49.0</td>\n",
       "      <td>3.0</td>\n",
       "    </tr>\n",
       "    <tr>\n",
       "      <th>Spain</th>\n",
       "      <td>40.0</td>\n",
       "      <td>3.0</td>\n",
       "    </tr>\n",
       "    <tr>\n",
       "      <th>France</th>\n",
       "      <td>39.0</td>\n",
       "      <td>2.0</td>\n",
       "    </tr>\n",
       "    <tr>\n",
       "      <th>Italy</th>\n",
       "      <td>38.0</td>\n",
       "      <td>1.0</td>\n",
       "    </tr>\n",
       "    <tr>\n",
       "      <th>Netherlands</th>\n",
       "      <td>35.0</td>\n",
       "      <td>1.0</td>\n",
       "    </tr>\n",
       "    <tr>\n",
       "      <th>Portugal</th>\n",
       "      <td>35.0</td>\n",
       "      <td>1.0</td>\n",
       "    </tr>\n",
       "    <tr>\n",
       "      <th>England</th>\n",
       "      <td>31.0</td>\n",
       "      <td>0.0</td>\n",
       "    </tr>\n",
       "    <tr>\n",
       "      <th>Russia</th>\n",
       "      <td>30.0</td>\n",
       "      <td>1.0</td>\n",
       "    </tr>\n",
       "    <tr>\n",
       "      <th>Denmark</th>\n",
       "      <td>27.0</td>\n",
       "      <td>1.0</td>\n",
       "    </tr>\n",
       "    <tr>\n",
       "      <th>Czech Republic</th>\n",
       "      <td>24.0</td>\n",
       "      <td>0.0</td>\n",
       "    </tr>\n",
       "    <tr>\n",
       "      <th>Sweden</th>\n",
       "      <td>20.0</td>\n",
       "      <td>0.0</td>\n",
       "    </tr>\n",
       "    <tr>\n",
       "      <th>Croatia</th>\n",
       "      <td>18.0</td>\n",
       "      <td>0.0</td>\n",
       "    </tr>\n",
       "    <tr>\n",
       "      <th>Belgium</th>\n",
       "      <td>17.0</td>\n",
       "      <td>0.0</td>\n",
       "    </tr>\n",
       "    <tr>\n",
       "      <th>Greece</th>\n",
       "      <td>16.0</td>\n",
       "      <td>1.0</td>\n",
       "    </tr>\n",
       "    <tr>\n",
       "      <th>Romania</th>\n",
       "      <td>16.0</td>\n",
       "      <td>0.0</td>\n",
       "    </tr>\n",
       "    <tr>\n",
       "      <th>Turkey</th>\n",
       "      <td>15.0</td>\n",
       "      <td>0.0</td>\n",
       "    </tr>\n",
       "    <tr>\n",
       "      <th>Switzerland</th>\n",
       "      <td>13.0</td>\n",
       "      <td>0.0</td>\n",
       "    </tr>\n",
       "    <tr>\n",
       "      <th>Poland</th>\n",
       "      <td>11.0</td>\n",
       "      <td>0.0</td>\n",
       "    </tr>\n",
       "    <tr>\n",
       "      <th>Republic of Ireland</th>\n",
       "      <td>10.0</td>\n",
       "      <td>0.0</td>\n",
       "    </tr>\n",
       "    <tr>\n",
       "      <th>Yugoslavia</th>\n",
       "      <td>10.0</td>\n",
       "      <td>0.0</td>\n",
       "    </tr>\n",
       "    <tr>\n",
       "      <th>Hungary</th>\n",
       "      <td>8.0</td>\n",
       "      <td>0.0</td>\n",
       "    </tr>\n",
       "    <tr>\n",
       "      <th>Czechoslovakia</th>\n",
       "      <td>8.0</td>\n",
       "      <td>1.0</td>\n",
       "    </tr>\n",
       "    <tr>\n",
       "      <th>Austria</th>\n",
       "      <td>6.0</td>\n",
       "      <td>0.0</td>\n",
       "    </tr>\n",
       "    <tr>\n",
       "      <th>Scotland</th>\n",
       "      <td>6.0</td>\n",
       "      <td>0.0</td>\n",
       "    </tr>\n",
       "    <tr>\n",
       "      <th>Bulgaria</th>\n",
       "      <td>6.0</td>\n",
       "      <td>0.0</td>\n",
       "    </tr>\n",
       "    <tr>\n",
       "      <th>Ukraine</th>\n",
       "      <td>6.0</td>\n",
       "      <td>0.0</td>\n",
       "    </tr>\n",
       "    <tr>\n",
       "      <th>Wales</th>\n",
       "      <td>6.0</td>\n",
       "      <td>0.0</td>\n",
       "    </tr>\n",
       "    <tr>\n",
       "      <th>Iceland</th>\n",
       "      <td>5.0</td>\n",
       "      <td>0.0</td>\n",
       "    </tr>\n",
       "    <tr>\n",
       "      <th>Northern Ireland</th>\n",
       "      <td>4.0</td>\n",
       "      <td>0.0</td>\n",
       "    </tr>\n",
       "    <tr>\n",
       "      <th>Slovakia</th>\n",
       "      <td>4.0</td>\n",
       "      <td>0.0</td>\n",
       "    </tr>\n",
       "    <tr>\n",
       "      <th>FR Yugoslavia</th>\n",
       "      <td>4.0</td>\n",
       "      <td>0.0</td>\n",
       "    </tr>\n",
       "    <tr>\n",
       "      <th>Norway</th>\n",
       "      <td>3.0</td>\n",
       "      <td>0.0</td>\n",
       "    </tr>\n",
       "    <tr>\n",
       "      <th>Latvia</th>\n",
       "      <td>3.0</td>\n",
       "      <td>0.0</td>\n",
       "    </tr>\n",
       "    <tr>\n",
       "      <th>Slovenia</th>\n",
       "      <td>3.0</td>\n",
       "      <td>0.0</td>\n",
       "    </tr>\n",
       "    <tr>\n",
       "      <th>CIS</th>\n",
       "      <td>3.0</td>\n",
       "      <td>0.0</td>\n",
       "    </tr>\n",
       "    <tr>\n",
       "      <th>Albania</th>\n",
       "      <td>3.0</td>\n",
       "      <td>0.0</td>\n",
       "    </tr>\n",
       "  </tbody>\n",
       "</table>\n",
       "</div>"
      ]
     },
     "metadata": {},
     "execution_count": 4
    }
   ],
   "metadata": {}
  },
  {
   "cell_type": "code",
   "execution_count": 5,
   "source": [
    "plot1 = FullData.loc[FullData.Champion == True]\r\n",
    "plot1 = plot1.groupby('Matches').agg({'Champion': ['size']})\r\n",
    "plot1.columns = ['Champ']\r\n",
    "plot1 = plot1.reset_index(level=['Matches'])\r\n",
    "plot2 = FullData.loc[FullData.Champion ==  False]\r\n",
    "plot2 = plot2.groupby('Matches').agg({'Champion': ['size']})\r\n",
    "plot2.columns = ['NonChamp']\r\n",
    "plot2 = plot2.reset_index(level=['Matches'])\r\n",
    "plot = pd.merge(plot1, plot2, how=\"outer\", on=[\"Matches\"])\r\n",
    "plot['Champ'] =plot['Champ']/(plot['Champ'] + plot['NonChamp'])\r\n",
    "plot['NonChamp'] = 1 - plot['Champ']\r\n",
    "plot"
   ],
   "outputs": [
    {
     "output_type": "execute_result",
     "data": {
      "text/plain": [
       "  Matches     Champ  NonChamp\n",
       "0    high  0.428571  0.571429\n",
       "1     low  0.222222  0.777778\n",
       "2     mid  0.040323  0.959677"
      ],
      "text/html": [
       "<div>\n",
       "<style scoped>\n",
       "    .dataframe tbody tr th:only-of-type {\n",
       "        vertical-align: middle;\n",
       "    }\n",
       "\n",
       "    .dataframe tbody tr th {\n",
       "        vertical-align: top;\n",
       "    }\n",
       "\n",
       "    .dataframe thead th {\n",
       "        text-align: right;\n",
       "    }\n",
       "</style>\n",
       "<table border=\"1\" class=\"dataframe\">\n",
       "  <thead>\n",
       "    <tr style=\"text-align: right;\">\n",
       "      <th></th>\n",
       "      <th>Matches</th>\n",
       "      <th>Champ</th>\n",
       "      <th>NonChamp</th>\n",
       "    </tr>\n",
       "  </thead>\n",
       "  <tbody>\n",
       "    <tr>\n",
       "      <th>0</th>\n",
       "      <td>high</td>\n",
       "      <td>0.428571</td>\n",
       "      <td>0.571429</td>\n",
       "    </tr>\n",
       "    <tr>\n",
       "      <th>1</th>\n",
       "      <td>low</td>\n",
       "      <td>0.222222</td>\n",
       "      <td>0.777778</td>\n",
       "    </tr>\n",
       "    <tr>\n",
       "      <th>2</th>\n",
       "      <td>mid</td>\n",
       "      <td>0.040323</td>\n",
       "      <td>0.959677</td>\n",
       "    </tr>\n",
       "  </tbody>\n",
       "</table>\n",
       "</div>"
      ]
     },
     "metadata": {},
     "execution_count": 5
    }
   ],
   "metadata": {}
  },
  {
   "cell_type": "code",
   "execution_count": 6,
   "source": [
    "Matches = [\"High\", \"Low\", \"Mid\"]\r\n",
    "width = 0.3\r\n",
    "plt.bar(plot.index, plot.Champ.to_numpy(), width, color = \"blue\", label=\"Champion\")\r\n",
    "plt.bar(plot.index, plot.NonChamp.to_numpy(), width, color = \"red\", label=\"NonChampion\", bottom = plot.Champ.to_numpy())\r\n",
    "plt.title(\"Effect of Matches on Champion\")\r\n",
    "plt.xlabel(\"Matches\")\r\n",
    "plt.ylabel(\"Final Result Ratio\")\r\n",
    "plt.xticks(plot.index, Matches)\r\n",
    "plt.legend(loc='best')\r\n",
    "plt.show()"
   ],
   "outputs": [
    {
     "output_type": "display_data",
     "data": {
      "text/plain": [
       "<Figure size 432x288 with 1 Axes>"
      ],
      "image/png": "[encoded data removed]"
     },
     "metadata": {
      "needs_background": "light"
     }
    }
   ],
   "metadata": {}
  },
  {
   "cell_type": "code",
   "execution_count": 7,
   "source": [
    "plot1 = FullData.loc[FullData.Champion ==  True]\r\n",
    "plot1 = plot1.groupby('AveGoalsFor').agg({'Champion': ['size']})\r\n",
    "plot1.columns = ['Champ']\r\n",
    "plot1 = plot1.reset_index(level=['AveGoalsFor'])\r\n",
    "plot2 = FullData.loc[FullData.Champion ==  False]\r\n",
    "plot2 = plot2.groupby('AveGoalsFor').agg({'Champion': ['size']})\r\n",
    "plot2.columns = ['NonChamp']\r\n",
    "plot2 = plot2.reset_index(level=['AveGoalsFor'])\r\n",
    "plot = pd.merge(plot1, plot2, how=\"outer\", on=[\"AveGoalsFor\"])\r\n",
    "plot['Champ'] =plot['Champ']/(plot['Champ'] + plot['NonChamp'])\r\n",
    "plot['NonChamp'] = 1 - plot['Champ']\r\n",
    "plot"
   ],
   "outputs": [
    {
     "output_type": "execute_result",
     "data": {
      "text/plain": [
       "  AveGoalsFor     Champ  NonChamp\n",
       "0        high  0.250000  0.750000\n",
       "1         low  0.012346  0.987654\n",
       "2         mid  0.183099  0.816901"
      ],
      "text/html": [
       "<div>\n",
       "<style scoped>\n",
       "    .dataframe tbody tr th:only-of-type {\n",
       "        vertical-align: middle;\n",
       "    }\n",
       "\n",
       "    .dataframe tbody tr th {\n",
       "        vertical-align: top;\n",
       "    }\n",
       "\n",
       "    .dataframe thead th {\n",
       "        text-align: right;\n",
       "    }\n",
       "</style>\n",
       "<table border=\"1\" class=\"dataframe\">\n",
       "  <thead>\n",
       "    <tr style=\"text-align: right;\">\n",
       "      <th></th>\n",
       "      <th>AveGoalsFor</th>\n",
       "      <th>Champ</th>\n",
       "      <th>NonChamp</th>\n",
       "    </tr>\n",
       "  </thead>\n",
       "  <tbody>\n",
       "    <tr>\n",
       "      <th>0</th>\n",
       "      <td>high</td>\n",
       "      <td>0.250000</td>\n",
       "      <td>0.750000</td>\n",
       "    </tr>\n",
       "    <tr>\n",
       "      <th>1</th>\n",
       "      <td>low</td>\n",
       "      <td>0.012346</td>\n",
       "      <td>0.987654</td>\n",
       "    </tr>\n",
       "    <tr>\n",
       "      <th>2</th>\n",
       "      <td>mid</td>\n",
       "      <td>0.183099</td>\n",
       "      <td>0.816901</td>\n",
       "    </tr>\n",
       "  </tbody>\n",
       "</table>\n",
       "</div>"
      ]
     },
     "metadata": {},
     "execution_count": 7
    }
   ],
   "metadata": {}
  },
  {
   "cell_type": "code",
   "execution_count": 8,
   "source": [
    "AveGoalsFor = [\"High\", \"Low\", \"Mid\"]\r\n",
    "width = 0.3\r\n",
    "plt.bar(plot.index, plot.Champ.to_numpy(), width, color = \"blue\", label=\"Champion\")\r\n",
    "plt.bar(plot.index, plot.NonChamp.to_numpy(), width, color = \"red\", label=\"NonChampion\", bottom = plot.Champ.to_numpy())\r\n",
    "plt.title(\"Effect of AveGoalsFor on Champion\")\r\n",
    "plt.xlabel(\"Matches\")\r\n",
    "plt.ylabel(\"Final Result Ratio\")\r\n",
    "plt.xticks(plot.index, AveGoalsFor)\r\n",
    "plt.legend(loc='best')\r\n",
    "plt.show()"
   ],
   "outputs": [
    {
     "output_type": "display_data",
     "data": {
      "text/plain": [
       "<Figure size 432x288 with 1 Axes>"
      ],
      "image/png": "[encoded data removed]"
     },
     "metadata": {
      "needs_background": "light"
     }
    }
   ],
   "metadata": {}
  },
  {
   "cell_type": "code",
   "execution_count": 9,
   "source": [
    "plot1 = FullData.loc[FullData.Champion == True]\r\n",
    "plot1 = plot1.groupby('ChampCount').agg({'Champion': ['size']})\r\n",
    "plot1.columns = ['Champ']\r\n",
    "plot1 = plot1.reset_index(level=['ChampCount'])\r\n",
    "plot2 = FullData.loc[FullData.Champion ==  False]\r\n",
    "plot2 = plot2.groupby('ChampCount').agg({'Champion': ['size']})\r\n",
    "plot2.columns = ['NonChamp']\r\n",
    "plot2 = plot2.reset_index(level=['ChampCount'])\r\n",
    "plot = pd.merge(plot1, plot2, how=\"outer\", on=[\"ChampCount\"])\r\n",
    "plot['Champ'] =plot['Champ']/(plot['Champ'] + plot['NonChamp'])\r\n",
    "plot['NonChamp'] = 1 - plot['Champ']\r\n",
    "plot"
   ],
   "outputs": [
    {
     "output_type": "execute_result",
     "data": {
      "text/plain": [
       "   ChampCount     Champ  NonChamp\n",
       "0         0.0  0.009901  0.990099\n",
       "1         1.0  0.209302  0.790698\n",
       "2         2.0  0.500000  0.500000\n",
       "3         3.0  0.333333  0.666667"
      ],
      "text/html": [
       "<div>\n",
       "<style scoped>\n",
       "    .dataframe tbody tr th:only-of-type {\n",
       "        vertical-align: middle;\n",
       "    }\n",
       "\n",
       "    .dataframe tbody tr th {\n",
       "        vertical-align: top;\n",
       "    }\n",
       "\n",
       "    .dataframe thead th {\n",
       "        text-align: right;\n",
       "    }\n",
       "</style>\n",
       "<table border=\"1\" class=\"dataframe\">\n",
       "  <thead>\n",
       "    <tr style=\"text-align: right;\">\n",
       "      <th></th>\n",
       "      <th>ChampCount</th>\n",
       "      <th>Champ</th>\n",
       "      <th>NonChamp</th>\n",
       "    </tr>\n",
       "  </thead>\n",
       "  <tbody>\n",
       "    <tr>\n",
       "      <th>0</th>\n",
       "      <td>0.0</td>\n",
       "      <td>0.009901</td>\n",
       "      <td>0.990099</td>\n",
       "    </tr>\n",
       "    <tr>\n",
       "      <th>1</th>\n",
       "      <td>1.0</td>\n",
       "      <td>0.209302</td>\n",
       "      <td>0.790698</td>\n",
       "    </tr>\n",
       "    <tr>\n",
       "      <th>2</th>\n",
       "      <td>2.0</td>\n",
       "      <td>0.500000</td>\n",
       "      <td>0.500000</td>\n",
       "    </tr>\n",
       "    <tr>\n",
       "      <th>3</th>\n",
       "      <td>3.0</td>\n",
       "      <td>0.333333</td>\n",
       "      <td>0.666667</td>\n",
       "    </tr>\n",
       "  </tbody>\n",
       "</table>\n",
       "</div>"
      ]
     },
     "metadata": {},
     "execution_count": 9
    }
   ],
   "metadata": {}
  },
  {
   "cell_type": "code",
   "execution_count": 10,
   "source": [
    "ChampCount = [\"0\", \"1\", \"2\", \"3\"]\r\n",
    "width = 0.3\r\n",
    "plt.bar(plot.index, plot.Champ.to_numpy(), width, color = \"blue\", label=\"Champion\")\r\n",
    "plt.bar(plot.index, plot.NonChamp.to_numpy(), width, color = \"red\", label=\"NonChampion\", bottom = plot.Champ.to_numpy())\r\n",
    "plt.title(\"Effect of ChampCount on Champion\")\r\n",
    "plt.xlabel(\"Matches\")\r\n",
    "plt.ylabel(\"Final Result Ratio\")\r\n",
    "plt.xticks(plot.index, ChampCount)\r\n",
    "plt.legend(loc='best')\r\n",
    "plt.show()"
   ],
   "outputs": [
    {
     "output_type": "display_data",
     "data": {
      "text/plain": [
       "<Figure size 432x288 with 1 Axes>"
      ],
      "image/png": "[encoded data removed]"
     },
     "metadata": {
      "needs_background": "light"
     }
    }
   ],
   "metadata": {}
  },
  {
   "cell_type": "code",
   "execution_count": 11,
   "source": [
    "plot1 = FullData.loc[FullData.Champion ==  True]\r\n",
    "plot1 = plot1.groupby('Host').agg({'Champion': ['size']})\r\n",
    "plot1.columns = ['Champ']\r\n",
    "plot1 = plot1.reset_index(level=['Host'])\r\n",
    "plot2 = FullData.loc[FullData.Champion ==  False]\r\n",
    "plot2 = plot2.groupby('Host').agg({'Champion': ['size']})\r\n",
    "plot2.columns = ['NonChamp']\r\n",
    "plot2 = plot2.reset_index(level=['Host'])\r\n",
    "plot = pd.merge(plot1, plot2, how=\"outer\", on=[\"Host\"])\r\n",
    "plot['Champ'] =plot['Champ']/(plot['Champ'] + plot['NonChamp'])\r\n",
    "plot['NonChamp'] = 1 - plot['Champ']\r\n",
    "plot"
   ],
   "outputs": [
    {
     "output_type": "execute_result",
     "data": {
      "text/plain": [
       "    Host     Champ  NonChamp\n",
       "0  False  0.086957  0.913043\n",
       "1   True  0.166667  0.833333"
      ],
      "text/html": [
       "<div>\n",
       "<style scoped>\n",
       "    .dataframe tbody tr th:only-of-type {\n",
       "        vertical-align: middle;\n",
       "    }\n",
       "\n",
       "    .dataframe tbody tr th {\n",
       "        vertical-align: top;\n",
       "    }\n",
       "\n",
       "    .dataframe thead th {\n",
       "        text-align: right;\n",
       "    }\n",
       "</style>\n",
       "<table border=\"1\" class=\"dataframe\">\n",
       "  <thead>\n",
       "    <tr style=\"text-align: right;\">\n",
       "      <th></th>\n",
       "      <th>Host</th>\n",
       "      <th>Champ</th>\n",
       "      <th>NonChamp</th>\n",
       "    </tr>\n",
       "  </thead>\n",
       "  <tbody>\n",
       "    <tr>\n",
       "      <th>0</th>\n",
       "      <td>False</td>\n",
       "      <td>0.086957</td>\n",
       "      <td>0.913043</td>\n",
       "    </tr>\n",
       "    <tr>\n",
       "      <th>1</th>\n",
       "      <td>True</td>\n",
       "      <td>0.166667</td>\n",
       "      <td>0.833333</td>\n",
       "    </tr>\n",
       "  </tbody>\n",
       "</table>\n",
       "</div>"
      ]
     },
     "metadata": {},
     "execution_count": 11
    }
   ],
   "metadata": {}
  },
  {
   "cell_type": "code",
   "execution_count": 12,
   "source": [
    "Host = [\"False\", \"True\"]\r\n",
    "width = 0.3\r\n",
    "plt.bar(plot.index, plot.Champ.to_numpy(), width, color = \"blue\", label=\"Champion\")\r\n",
    "plt.bar(plot.index, plot.NonChamp.to_numpy(), width, color = \"red\", label=\"NonChampion\", bottom = plot.Champ.to_numpy())\r\n",
    "plt.title(\"Effect of Host on Champion\")\r\n",
    "plt.xlabel(\"Host\")\r\n",
    "plt.ylabel(\"Final Result Ratio\")\r\n",
    "plt.xticks(plot.index, Host)\r\n",
    "plt.legend(loc='best')\r\n",
    "plt.show()"
   ],
   "outputs": [
    {
     "output_type": "display_data",
     "data": {
      "text/plain": [
       "<Figure size 432x288 with 1 Axes>"
      ],
      "image/png": "[encoded data removed]"
     },
     "metadata": {
      "needs_background": "light"
     }
    }
   ],
   "metadata": {}
  },
  {
   "cell_type": "code",
   "execution_count": 13,
   "source": [
    "del Train1['HomeMatches']\r\n",
    "del Train1['HomeAveGoalsFor']\r\n",
    "del Train1['HomeAveGoalsAgainst']\r\n",
    "del Train1['AwayMatches']\r\n",
    "del Train1['AwayAveGoalsFor']\r\n",
    "del Train1['AwayAveGoalsAgainst']\r\n",
    "del Train1['AveGoalsAgainst']\r\n",
    "Train1"
   ],
   "outputs": [
    {
     "output_type": "execute_result",
     "data": {
      "text/plain": [
       "             Country Matches AveGoalsFor   Host  ChampCount  Champion\n",
       "Year                                                                 \n",
       "1960  Czechoslovakia     low         low  False         0.0     False\n",
       "1960          France     low         mid   True         0.0     False\n",
       "1960          Russia     low         mid  False         0.0      True\n",
       "1960      Yugoslavia     low        high  False         0.0     False\n",
       "1968         England     low         low  False         0.0     False\n",
       "...              ...     ...         ...    ...         ...       ...\n",
       "2016          Sweden     mid         low  False         0.0     False\n",
       "2016     Switzerland     mid         low  False         0.0     False\n",
       "2016          Turkey     mid         low  False         0.0     False\n",
       "2016         Ukraine     mid         low  False         0.0     False\n",
       "2016           Wales    high         mid  False         0.0     False\n",
       "\n",
       "[132 rows x 6 columns]"
      ],
      "text/html": [
       "<div>\n",
       "<style scoped>\n",
       "    .dataframe tbody tr th:only-of-type {\n",
       "        vertical-align: middle;\n",
       "    }\n",
       "\n",
       "    .dataframe tbody tr th {\n",
       "        vertical-align: top;\n",
       "    }\n",
       "\n",
       "    .dataframe thead th {\n",
       "        text-align: right;\n",
       "    }\n",
       "</style>\n",
       "<table border=\"1\" class=\"dataframe\">\n",
       "  <thead>\n",
       "    <tr style=\"text-align: right;\">\n",
       "      <th></th>\n",
       "      <th>Country</th>\n",
       "      <th>Matches</th>\n",
       "      <th>AveGoalsFor</th>\n",
       "      <th>Host</th>\n",
       "      <th>ChampCount</th>\n",
       "      <th>Champion</th>\n",
       "    </tr>\n",
       "    <tr>\n",
       "      <th>Year</th>\n",
       "      <th></th>\n",
       "      <th></th>\n",
       "      <th></th>\n",
       "      <th></th>\n",
       "      <th></th>\n",
       "      <th></th>\n",
       "    </tr>\n",
       "  </thead>\n",
       "  <tbody>\n",
       "    <tr>\n",
       "      <th>1960</th>\n",
       "      <td>Czechoslovakia</td>\n",
       "      <td>low</td>\n",
       "      <td>low</td>\n",
       "      <td>False</td>\n",
       "      <td>0.0</td>\n",
       "      <td>False</td>\n",
       "    </tr>\n",
       "    <tr>\n",
       "      <th>1960</th>\n",
       "      <td>France</td>\n",
       "      <td>low</td>\n",
       "      <td>mid</td>\n",
       "      <td>True</td>\n",
       "      <td>0.0</td>\n",
       "      <td>False</td>\n",
       "    </tr>\n",
       "    <tr>\n",
       "      <th>1960</th>\n",
       "      <td>Russia</td>\n",
       "      <td>low</td>\n",
       "      <td>mid</td>\n",
       "      <td>False</td>\n",
       "      <td>0.0</td>\n",
       "      <td>True</td>\n",
       "    </tr>\n",
       "    <tr>\n",
       "      <th>1960</th>\n",
       "      <td>Yugoslavia</td>\n",
       "      <td>low</td>\n",
       "      <td>high</td>\n",
       "      <td>False</td>\n",
       "      <td>0.0</td>\n",
       "      <td>False</td>\n",
       "    </tr>\n",
       "    <tr>\n",
       "      <th>1968</th>\n",
       "      <td>England</td>\n",
       "      <td>low</td>\n",
       "      <td>low</td>\n",
       "      <td>False</td>\n",
       "      <td>0.0</td>\n",
       "      <td>False</td>\n",
       "    </tr>\n",
       "    <tr>\n",
       "      <th>...</th>\n",
       "      <td>...</td>\n",
       "      <td>...</td>\n",
       "      <td>...</td>\n",
       "      <td>...</td>\n",
       "      <td>...</td>\n",
       "      <td>...</td>\n",
       "    </tr>\n",
       "    <tr>\n",
       "      <th>2016</th>\n",
       "      <td>Sweden</td>\n",
       "      <td>mid</td>\n",
       "      <td>low</td>\n",
       "      <td>False</td>\n",
       "      <td>0.0</td>\n",
       "      <td>False</td>\n",
       "    </tr>\n",
       "    <tr>\n",
       "      <th>2016</th>\n",
       "      <td>Switzerland</td>\n",
       "      <td>mid</td>\n",
       "      <td>low</td>\n",
       "      <td>False</td>\n",
       "      <td>0.0</td>\n",
       "      <td>False</td>\n",
       "    </tr>\n",
       "    <tr>\n",
       "      <th>2016</th>\n",
       "      <td>Turkey</td>\n",
       "      <td>mid</td>\n",
       "      <td>low</td>\n",
       "      <td>False</td>\n",
       "      <td>0.0</td>\n",
       "      <td>False</td>\n",
       "    </tr>\n",
       "    <tr>\n",
       "      <th>2016</th>\n",
       "      <td>Ukraine</td>\n",
       "      <td>mid</td>\n",
       "      <td>low</td>\n",
       "      <td>False</td>\n",
       "      <td>0.0</td>\n",
       "      <td>False</td>\n",
       "    </tr>\n",
       "    <tr>\n",
       "      <th>2016</th>\n",
       "      <td>Wales</td>\n",
       "      <td>high</td>\n",
       "      <td>mid</td>\n",
       "      <td>False</td>\n",
       "      <td>0.0</td>\n",
       "      <td>False</td>\n",
       "    </tr>\n",
       "  </tbody>\n",
       "</table>\n",
       "<p>132 rows × 6 columns</p>\n",
       "</div>"
      ]
     },
     "metadata": {},
     "execution_count": 13
    }
   ],
   "metadata": {}
  },
  {
   "cell_type": "code",
   "execution_count": 14,
   "source": [
    "model = BayesianModel([('Country', 'AveGoalsFor'), ('Country', 'ChampCount'), ('AveGoalsFor', 'Champion'), ('Host', 'Champion'), ('ChampCount', 'Champion'), ('Matches', 'Champion')])"
   ],
   "outputs": [],
   "metadata": {}
  },
  {
   "cell_type": "code",
   "execution_count": 15,
   "source": [
    "model.fit(Train1, estimator = MaximumLikelihoodEstimator)\r\n",
    "model.check_model()"
   ],
   "outputs": [
    {
     "output_type": "execute_result",
     "data": {
      "text/plain": [
       "True"
      ]
     },
     "metadata": {},
     "execution_count": 15
    }
   ],
   "metadata": {}
  },
  {
   "cell_type": "code",
   "execution_count": 16,
   "source": [
    "print(model.get_cpds('Matches'))"
   ],
   "outputs": [
    {
     "output_type": "stream",
     "name": "stdout",
     "text": [
      "+---------------+-----------+\n",
      "| Matches(high) | 0.0909091 |\n",
      "+---------------+-----------+\n",
      "| Matches(low)  | 0.0757576 |\n",
      "+---------------+-----------+\n",
      "| Matches(mid)  | 0.833333  |\n",
      "+---------------+-----------+\n"
     ]
    }
   ],
   "metadata": {}
  },
  {
   "cell_type": "code",
   "execution_count": 17,
   "source": [
    "print(model.get_cpds('Host'))"
   ],
   "outputs": [
    {
     "output_type": "stream",
     "name": "stdout",
     "text": [
      "+-------------+----------+\n",
      "| Host(False) | 0.893939 |\n",
      "+-------------+----------+\n",
      "| Host(True)  | 0.106061 |\n",
      "+-------------+----------+\n"
     ]
    }
   ],
   "metadata": {}
  },
  {
   "cell_type": "code",
   "execution_count": 18,
   "source": [
    "print(model.get_cpds('Country'))"
   ],
   "outputs": [
    {
     "output_type": "stream",
     "name": "stdout",
     "text": [
      "+------------------------------+------------+\n",
      "| Country(Albania)             | 0.00757576 |\n",
      "+------------------------------+------------+\n",
      "| Country(Austria)             | 0.0151515  |\n",
      "+------------------------------+------------+\n",
      "| Country(Belgium)             | 0.030303   |\n",
      "+------------------------------+------------+\n",
      "| Country(Bulgaria)            | 0.0151515  |\n",
      "+------------------------------+------------+\n",
      "| Country(CIS)                 | 0.00757576 |\n",
      "+------------------------------+------------+\n",
      "| Country(Croatia)             | 0.030303   |\n",
      "+------------------------------+------------+\n",
      "| Country(Czech Republic)      | 0.0378788  |\n",
      "+------------------------------+------------+\n",
      "| Country(Czechoslovakia)      | 0.0227273  |\n",
      "+------------------------------+------------+\n",
      "| Country(Denmark)             | 0.0454545  |\n",
      "+------------------------------+------------+\n",
      "| Country(England)             | 0.0606061  |\n",
      "+------------------------------+------------+\n",
      "| Country(FR Yugoslavia)       | 0.00757576 |\n",
      "+------------------------------+------------+\n",
      "| Country(France)              | 0.0606061  |\n",
      "+------------------------------+------------+\n",
      "| Country(Germany)             | 0.0757576  |\n",
      "+------------------------------+------------+\n",
      "| Country(Greece)              | 0.0227273  |\n",
      "+------------------------------+------------+\n",
      "| Country(Hungary)             | 0.00757576 |\n",
      "+------------------------------+------------+\n",
      "| Country(Iceland)             | 0.00757576 |\n",
      "+------------------------------+------------+\n",
      "| Country(Italy)               | 0.0606061  |\n",
      "+------------------------------+------------+\n",
      "| Country(Latvia)              | 0.00757576 |\n",
      "+------------------------------+------------+\n",
      "| Country(Netherlands)         | 0.0606061  |\n",
      "+------------------------------+------------+\n",
      "| Country(Northern Ireland)    | 0.00757576 |\n",
      "+------------------------------+------------+\n",
      "| Country(Norway)              | 0.00757576 |\n",
      "+------------------------------+------------+\n",
      "| Country(Poland)              | 0.0151515  |\n",
      "+------------------------------+------------+\n",
      "| Country(Portugal)            | 0.0454545  |\n",
      "+------------------------------+------------+\n",
      "| Country(Republic of Ireland) | 0.0151515  |\n",
      "+------------------------------+------------+\n",
      "| Country(Romania)             | 0.0378788  |\n",
      "+------------------------------+------------+\n",
      "| Country(Russia)              | 0.0530303  |\n",
      "+------------------------------+------------+\n",
      "| Country(Scotland)            | 0.0151515  |\n",
      "+------------------------------+------------+\n",
      "| Country(Slovakia)            | 0.00757576 |\n",
      "+------------------------------+------------+\n",
      "| Country(Slovenia)            | 0.00757576 |\n",
      "+------------------------------+------------+\n",
      "| Country(Spain)               | 0.0606061  |\n",
      "+------------------------------+------------+\n",
      "| Country(Sweden)              | 0.0378788  |\n",
      "+------------------------------+------------+\n",
      "| Country(Switzerland)         | 0.030303   |\n",
      "+------------------------------+------------+\n",
      "| Country(Turkey)              | 0.030303   |\n",
      "+------------------------------+------------+\n",
      "| Country(Ukraine)             | 0.00757576 |\n",
      "+------------------------------+------------+\n",
      "| Country(Wales)               | 0.00757576 |\n",
      "+------------------------------+------------+\n",
      "| Country(Yugoslavia)          | 0.030303   |\n",
      "+------------------------------+------------+\n"
     ]
    }
   ],
   "metadata": {}
  },
  {
   "cell_type": "code",
   "execution_count": 19,
   "source": [
    "print(model.get_cpds('AveGoalsFor'))"
   ],
   "outputs": [
    {
     "output_type": "stream",
     "name": "stdout",
     "text": [
      "+-------------------+------------------+------------------+------------------+-------------------+--------------+------------------+-------------------------+-------------------------+------------------+------------------+------------------------+-----------------+------------------+--------------------+------------------+------------------+----------------+-----------------+----------------------+---------------------------+-----------------+-----------------+---------------------+------------------------------+------------------+---------------------+-------------------+-------------------+-------------------+----------------+-----------------+----------------------+-----------------+------------------+----------------+---------------------+\n",
      "| Country           | Country(Albania) | Country(Austria) | Country(Belgium) | Country(Bulgaria) | Country(CIS) | Country(Croatia) | Country(Czech Republic) | Country(Czechoslovakia) | Country(Denmark) | Country(England) | Country(FR Yugoslavia) | Country(France) | Country(Germany) | Country(Greece)    | Country(Hungary) | Country(Iceland) | Country(Italy) | Country(Latvia) | Country(Netherlands) | Country(Northern Ireland) | Country(Norway) | Country(Poland) | Country(Portugal)   | Country(Republic of Ireland) | Country(Romania) | Country(Russia)     | Country(Scotland) | Country(Slovakia) | Country(Slovenia) | Country(Spain) | Country(Sweden) | Country(Switzerland) | Country(Turkey) | Country(Ukraine) | Country(Wales) | Country(Yugoslavia) |\n",
      "+-------------------+------------------+------------------+------------------+-------------------+--------------+------------------+-------------------------+-------------------------+------------------+------------------+------------------------+-----------------+------------------+--------------------+------------------+------------------+----------------+-----------------+----------------------+---------------------------+-----------------+-----------------+---------------------+------------------------------+------------------+---------------------+-------------------+-------------------+-------------------+----------------+-----------------+----------------------+-----------------+------------------+----------------+---------------------+\n",
      "| AveGoalsFor(high) | 0.0              | 0.0              | 0.0              | 0.0               | 0.0          | 0.0              | 0.0                     | 0.0                     | 0.0              | 0.0              | 0.0                    | 0.125           | 0.1              | 0.0                | 0.0              | 0.0              | 0.0            | 0.0             | 0.125                | 0.0                       | 0.0             | 0.0             | 0.0                 | 0.0                          | 0.0              | 0.0                 | 0.0               | 0.0               | 0.0               | 0.0            | 0.0             | 0.0                  | 0.0             | 0.0              | 0.0            | 0.25                |\n",
      "+-------------------+------------------+------------------+------------------+-------------------+--------------+------------------+-------------------------+-------------------------+------------------+------------------+------------------------+-----------------+------------------+--------------------+------------------+------------------+----------------+-----------------+----------------------+---------------------------+-----------------+-----------------+---------------------+------------------------------+------------------+---------------------+-------------------+-------------------+-------------------+----------------+-----------------+----------------------+-----------------+------------------+----------------+---------------------+\n",
      "| AveGoalsFor(low)  | 1.0              | 1.0              | 0.5              | 1.0               | 1.0          | 0.0              | 0.4                     | 0.3333333333333333      | 0.5              | 0.625            | 0.0                    | 0.375           | 0.3              | 0.6666666666666666 | 0.0              | 0.0              | 0.75           | 1.0             | 0.125                | 1.0                       | 1.0             | 1.0             | 0.16666666666666666 | 1.0                          | 1.0              | 0.42857142857142855 | 1.0               | 1.0               | 0.0               | 0.625          | 0.6             | 1.0                  | 0.75            | 1.0              | 0.0            | 0.5                 |\n",
      "+-------------------+------------------+------------------+------------------+-------------------+--------------+------------------+-------------------------+-------------------------+------------------+------------------+------------------------+-----------------+------------------+--------------------+------------------+------------------+----------------+-----------------+----------------------+---------------------------+-----------------+-----------------+---------------------+------------------------------+------------------+---------------------+-------------------+-------------------+-------------------+----------------+-----------------+----------------------+-----------------+------------------+----------------+---------------------+\n",
      "| AveGoalsFor(mid)  | 0.0              | 0.0              | 0.5              | 0.0               | 0.0          | 1.0              | 0.6                     | 0.6666666666666666      | 0.5              | 0.375            | 1.0                    | 0.5             | 0.6              | 0.3333333333333333 | 1.0              | 1.0              | 0.25           | 0.0             | 0.75                 | 0.0                       | 0.0             | 0.0             | 0.8333333333333334  | 0.0                          | 0.0              | 0.5714285714285714  | 0.0               | 0.0               | 1.0               | 0.375          | 0.4             | 0.0                  | 0.25            | 0.0              | 1.0            | 0.25                |\n",
      "+-------------------+------------------+------------------+------------------+-------------------+--------------+------------------+-------------------------+-------------------------+------------------+------------------+------------------------+-----------------+------------------+--------------------+------------------+------------------+----------------+-----------------+----------------------+---------------------------+-----------------+-----------------+---------------------+------------------------------+------------------+---------------------+-------------------+-------------------+-------------------+----------------+-----------------+----------------------+-----------------+------------------+----------------+---------------------+\n"
     ]
    }
   ],
   "metadata": {}
  },
  {
   "cell_type": "code",
   "execution_count": 20,
   "source": [
    "print(model.get_cpds('ChampCount'))"
   ],
   "outputs": [
    {
     "output_type": "stream",
     "name": "stdout",
     "text": [
      "+-----------------+------------------+------------------+------------------+-------------------+--------------+------------------+-------------------------+-------------------------+--------------------+------------------+------------------------+-----------------+------------------+--------------------+------------------+------------------+----------------+-----------------+----------------------+---------------------------+-----------------+-----------------+---------------------+------------------------------+------------------+-----------------+-------------------+-------------------+-------------------+----------------+-----------------+----------------------+-----------------+------------------+----------------+---------------------+\n",
      "| Country         | Country(Albania) | Country(Austria) | Country(Belgium) | Country(Bulgaria) | Country(CIS) | Country(Croatia) | Country(Czech Republic) | Country(Czechoslovakia) | Country(Denmark)   | Country(England) | Country(FR Yugoslavia) | Country(France) | Country(Germany) | Country(Greece)    | Country(Hungary) | Country(Iceland) | Country(Italy) | Country(Latvia) | Country(Netherlands) | Country(Northern Ireland) | Country(Norway) | Country(Poland) | Country(Portugal)   | Country(Republic of Ireland) | Country(Romania) | Country(Russia) | Country(Scotland) | Country(Slovakia) | Country(Slovenia) | Country(Spain) | Country(Sweden) | Country(Switzerland) | Country(Turkey) | Country(Ukraine) | Country(Wales) | Country(Yugoslavia) |\n",
      "+-----------------+------------------+------------------+------------------+-------------------+--------------+------------------+-------------------------+-------------------------+--------------------+------------------+------------------------+-----------------+------------------+--------------------+------------------+------------------+----------------+-----------------+----------------------+---------------------------+-----------------+-----------------+---------------------+------------------------------+------------------+-----------------+-------------------+-------------------+-------------------+----------------+-----------------+----------------------+-----------------+------------------+----------------+---------------------+\n",
      "| ChampCount(0.0) | 1.0              | 1.0              | 1.0              | 1.0               | 1.0          | 1.0              | 1.0                     | 0.3333333333333333      | 0.3333333333333333 | 1.0              | 1.0                    | 0.125           | 0.0              | 0.6666666666666666 | 1.0              | 1.0              | 0.0            | 1.0             | 0.25                 | 1.0                       | 1.0             | 1.0             | 0.8333333333333334  | 1.0                          | 1.0              | 1.0             | 1.0               | 1.0               | 1.0               | 0.0            | 1.0             | 1.0                  | 1.0             | 1.0              | 1.0            | 1.0                 |\n",
      "+-----------------+------------------+------------------+------------------+-------------------+--------------+------------------+-------------------------+-------------------------+--------------------+------------------+------------------------+-----------------+------------------+--------------------+------------------+------------------+----------------+-----------------+----------------------+---------------------------+-----------------+-----------------+---------------------+------------------------------+------------------+-----------------+-------------------+-------------------+-------------------+----------------+-----------------+----------------------+-----------------+------------------+----------------+---------------------+\n",
      "| ChampCount(1.0) | 0.0              | 0.0              | 0.0              | 0.0               | 0.0          | 0.0              | 0.0                     | 0.6666666666666666      | 0.6666666666666666 | 0.0              | 0.0                    | 0.0             | 1.0              | 0.0                | 0.0              | 0.0              | 1.0            | 0.0             | 0.75                 | 0.0                       | 0.0             | 0.0             | 0.0                 | 0.0                          | 0.0              | 0.0             | 0.0               | 0.0               | 0.0               | 0.875          | 0.0             | 0.0                  | 0.0             | 0.0              | 0.0            | 0.0                 |\n",
      "+-----------------+------------------+------------------+------------------+-------------------+--------------+------------------+-------------------------+-------------------------+--------------------+------------------+------------------------+-----------------+------------------+--------------------+------------------+------------------+----------------+-----------------+----------------------+---------------------------+-----------------+-----------------+---------------------+------------------------------+------------------+-----------------+-------------------+-------------------+-------------------+----------------+-----------------+----------------------+-----------------+------------------+----------------+---------------------+\n",
      "| ChampCount(2.0) | 0.0              | 0.0              | 0.0              | 0.0               | 0.0          | 0.0              | 0.0                     | 0.0                     | 0.0                | 0.0              | 0.0                    | 0.375           | 0.0              | 0.3333333333333333 | 0.0              | 0.0              | 0.0            | 0.0             | 0.0                  | 0.0                       | 0.0             | 0.0             | 0.0                 | 0.0                          | 0.0              | 0.0             | 0.0               | 0.0               | 0.0               | 0.125          | 0.0             | 0.0                  | 0.0             | 0.0              | 0.0            | 0.0                 |\n",
      "+-----------------+------------------+------------------+------------------+-------------------+--------------+------------------+-------------------------+-------------------------+--------------------+------------------+------------------------+-----------------+------------------+--------------------+------------------+------------------+----------------+-----------------+----------------------+---------------------------+-----------------+-----------------+---------------------+------------------------------+------------------+-----------------+-------------------+-------------------+-------------------+----------------+-----------------+----------------------+-----------------+------------------+----------------+---------------------+\n",
      "| ChampCount(3.0) | 0.0              | 0.0              | 0.0              | 0.0               | 0.0          | 0.0              | 0.0                     | 0.0                     | 0.0                | 0.0              | 0.0                    | 0.5             | 0.0              | 0.0                | 0.0              | 0.0              | 0.0            | 0.0             | 0.0                  | 0.0                       | 0.0             | 0.0             | 0.16666666666666666 | 0.0                          | 0.0              | 0.0             | 0.0               | 0.0               | 0.0               | 0.0            | 0.0             | 0.0                  | 0.0             | 0.0              | 0.0            | 0.0                 |\n",
      "+-----------------+------------------+------------------+------------------+-------------------+--------------+------------------+-------------------------+-------------------------+--------------------+------------------+------------------------+-----------------+------------------+--------------------+------------------+------------------+----------------+-----------------+----------------------+---------------------------+-----------------+-----------------+---------------------+------------------------------+------------------+-----------------+-------------------+-------------------+-------------------+----------------+-----------------+----------------------+-----------------+------------------+----------------+---------------------+\n"
     ]
    }
   ],
   "metadata": {}
  },
  {
   "cell_type": "code",
   "execution_count": 21,
   "source": [
    "print(model.get_cpds('Champion'))"
   ],
   "outputs": [
    {
     "output_type": "stream",
     "name": "stdout",
     "text": [
      "+-----------------+-------------------+-------------------+-------------------+-------------------+-------------------+-------------------+-------------------+-------------------+-------------------+-------------------+-------------------+-------------------+-------------------+-------------------+-------------------+-------------------+-------------------+-------------------+-------------------+-------------------+-------------------+-------------------+-------------------+-------------------+------------------+------------------+------------------+------------------+------------------+------------------+------------------+------------------+------------------+------------------+------------------+------------------+------------------+------------------+------------------+------------------+------------------+------------------+------------------+------------------+------------------+------------------+------------------+------------------+------------------+------------------+------------------+------------------+------------------+------------------+------------------+------------------+--------------------+------------------+------------------+------------------+------------------+------------------+------------------+------------------+------------------+------------------+------------------+------------------+------------------+------------------+------------------+------------------+\n",
      "| AveGoalsFor     | AveGoalsFor(high) | AveGoalsFor(high) | AveGoalsFor(high) | AveGoalsFor(high) | AveGoalsFor(high) | AveGoalsFor(high) | AveGoalsFor(high) | AveGoalsFor(high) | AveGoalsFor(high) | AveGoalsFor(high) | AveGoalsFor(high) | AveGoalsFor(high) | AveGoalsFor(high) | AveGoalsFor(high) | AveGoalsFor(high) | AveGoalsFor(high) | AveGoalsFor(high) | AveGoalsFor(high) | AveGoalsFor(high) | AveGoalsFor(high) | AveGoalsFor(high) | AveGoalsFor(high) | AveGoalsFor(high) | AveGoalsFor(high) | AveGoalsFor(low) | AveGoalsFor(low) | AveGoalsFor(low) | AveGoalsFor(low) | AveGoalsFor(low) | AveGoalsFor(low) | AveGoalsFor(low) | AveGoalsFor(low) | AveGoalsFor(low) | AveGoalsFor(low) | AveGoalsFor(low) | AveGoalsFor(low) | AveGoalsFor(low) | AveGoalsFor(low) | AveGoalsFor(low) | AveGoalsFor(low) | AveGoalsFor(low) | AveGoalsFor(low) | AveGoalsFor(low) | AveGoalsFor(low) | AveGoalsFor(low) | AveGoalsFor(low) | AveGoalsFor(low) | AveGoalsFor(low) | AveGoalsFor(mid) | AveGoalsFor(mid) | AveGoalsFor(mid) | AveGoalsFor(mid) | AveGoalsFor(mid) | AveGoalsFor(mid) | AveGoalsFor(mid) | AveGoalsFor(mid) | AveGoalsFor(mid)   | AveGoalsFor(mid) | AveGoalsFor(mid) | AveGoalsFor(mid) | AveGoalsFor(mid) | AveGoalsFor(mid) | AveGoalsFor(mid) | AveGoalsFor(mid) | AveGoalsFor(mid) | AveGoalsFor(mid) | AveGoalsFor(mid) | AveGoalsFor(mid) | AveGoalsFor(mid) | AveGoalsFor(mid) | AveGoalsFor(mid) | AveGoalsFor(mid) |\n",
      "+-----------------+-------------------+-------------------+-------------------+-------------------+-------------------+-------------------+-------------------+-------------------+-------------------+-------------------+-------------------+-------------------+-------------------+-------------------+-------------------+-------------------+-------------------+-------------------+-------------------+-------------------+-------------------+-------------------+-------------------+-------------------+------------------+------------------+------------------+------------------+------------------+------------------+------------------+------------------+------------------+------------------+------------------+------------------+------------------+------------------+------------------+------------------+------------------+------------------+------------------+------------------+------------------+------------------+------------------+------------------+------------------+------------------+------------------+------------------+------------------+------------------+------------------+------------------+--------------------+------------------+------------------+------------------+------------------+------------------+------------------+------------------+------------------+------------------+------------------+------------------+------------------+------------------+------------------+------------------+\n",
      "| ChampCount      | ChampCount(0.0)   | ChampCount(0.0)   | ChampCount(0.0)   | ChampCount(0.0)   | ChampCount(0.0)   | ChampCount(0.0)   | ChampCount(1.0)   | ChampCount(1.0)   | ChampCount(1.0)   | ChampCount(1.0)   | ChampCount(1.0)   | ChampCount(1.0)   | ChampCount(2.0)   | ChampCount(2.0)   | ChampCount(2.0)   | ChampCount(2.0)   | ChampCount(2.0)   | ChampCount(2.0)   | ChampCount(3.0)   | ChampCount(3.0)   | ChampCount(3.0)   | ChampCount(3.0)   | ChampCount(3.0)   | ChampCount(3.0)   | ChampCount(0.0)  | ChampCount(0.0)  | ChampCount(0.0)  | ChampCount(0.0)  | ChampCount(0.0)  | ChampCount(0.0)  | ChampCount(1.0)  | ChampCount(1.0)  | ChampCount(1.0)  | ChampCount(1.0)  | ChampCount(1.0)  | ChampCount(1.0)  | ChampCount(2.0)  | ChampCount(2.0)  | ChampCount(2.0)  | ChampCount(2.0)  | ChampCount(2.0)  | ChampCount(2.0)  | ChampCount(3.0)  | ChampCount(3.0)  | ChampCount(3.0)  | ChampCount(3.0)  | ChampCount(3.0)  | ChampCount(3.0)  | ChampCount(0.0)  | ChampCount(0.0)  | ChampCount(0.0)  | ChampCount(0.0)  | ChampCount(0.0)  | ChampCount(0.0)  | ChampCount(1.0)  | ChampCount(1.0)  | ChampCount(1.0)    | ChampCount(1.0)  | ChampCount(1.0)  | ChampCount(1.0)  | ChampCount(2.0)  | ChampCount(2.0)  | ChampCount(2.0)  | ChampCount(2.0)  | ChampCount(2.0)  | ChampCount(2.0)  | ChampCount(3.0)  | ChampCount(3.0)  | ChampCount(3.0)  | ChampCount(3.0)  | ChampCount(3.0)  | ChampCount(3.0)  |\n",
      "+-----------------+-------------------+-------------------+-------------------+-------------------+-------------------+-------------------+-------------------+-------------------+-------------------+-------------------+-------------------+-------------------+-------------------+-------------------+-------------------+-------------------+-------------------+-------------------+-------------------+-------------------+-------------------+-------------------+-------------------+-------------------+------------------+------------------+------------------+------------------+------------------+------------------+------------------+------------------+------------------+------------------+------------------+------------------+------------------+------------------+------------------+------------------+------------------+------------------+------------------+------------------+------------------+------------------+------------------+------------------+------------------+------------------+------------------+------------------+------------------+------------------+------------------+------------------+--------------------+------------------+------------------+------------------+------------------+------------------+------------------+------------------+------------------+------------------+------------------+------------------+------------------+------------------+------------------+------------------+\n",
      "| Host            | Host(False)       | Host(False)       | Host(False)       | Host(True)        | Host(True)        | Host(True)        | Host(False)       | Host(False)       | Host(False)       | Host(True)        | Host(True)        | Host(True)        | Host(False)       | Host(False)       | Host(False)       | Host(True)        | Host(True)        | Host(True)        | Host(False)       | Host(False)       | Host(False)       | Host(True)        | Host(True)        | Host(True)        | Host(False)      | Host(False)      | Host(False)      | Host(True)       | Host(True)       | Host(True)       | Host(False)      | Host(False)      | Host(False)      | Host(True)       | Host(True)       | Host(True)       | Host(False)      | Host(False)      | Host(False)      | Host(True)       | Host(True)       | Host(True)       | Host(False)      | Host(False)      | Host(False)      | Host(True)       | Host(True)       | Host(True)       | Host(False)      | Host(False)      | Host(False)      | Host(True)       | Host(True)       | Host(True)       | Host(False)      | Host(False)      | Host(False)        | Host(True)       | Host(True)       | Host(True)       | Host(False)      | Host(False)      | Host(False)      | Host(True)       | Host(True)       | Host(True)       | Host(False)      | Host(False)      | Host(False)      | Host(True)       | Host(True)       | Host(True)       |\n",
      "+-----------------+-------------------+-------------------+-------------------+-------------------+-------------------+-------------------+-------------------+-------------------+-------------------+-------------------+-------------------+-------------------+-------------------+-------------------+-------------------+-------------------+-------------------+-------------------+-------------------+-------------------+-------------------+-------------------+-------------------+-------------------+------------------+------------------+------------------+------------------+------------------+------------------+------------------+------------------+------------------+------------------+------------------+------------------+------------------+------------------+------------------+------------------+------------------+------------------+------------------+------------------+------------------+------------------+------------------+------------------+------------------+------------------+------------------+------------------+------------------+------------------+------------------+------------------+--------------------+------------------+------------------+------------------+------------------+------------------+------------------+------------------+------------------+------------------+------------------+------------------+------------------+------------------+------------------+------------------+\n",
      "| Matches         | Matches(high)     | Matches(low)      | Matches(mid)      | Matches(high)     | Matches(low)      | Matches(mid)      | Matches(high)     | Matches(low)      | Matches(mid)      | Matches(high)     | Matches(low)      | Matches(mid)      | Matches(high)     | Matches(low)      | Matches(mid)      | Matches(high)     | Matches(low)      | Matches(mid)      | Matches(high)     | Matches(low)      | Matches(mid)      | Matches(high)     | Matches(low)      | Matches(mid)      | Matches(high)    | Matches(low)     | Matches(mid)     | Matches(high)    | Matches(low)     | Matches(mid)     | Matches(high)    | Matches(low)     | Matches(mid)     | Matches(high)    | Matches(low)     | Matches(mid)     | Matches(high)    | Matches(low)     | Matches(mid)     | Matches(high)    | Matches(low)     | Matches(mid)     | Matches(high)    | Matches(low)     | Matches(mid)     | Matches(high)    | Matches(low)     | Matches(mid)     | Matches(high)    | Matches(low)     | Matches(mid)     | Matches(high)    | Matches(low)     | Matches(mid)     | Matches(high)    | Matches(low)     | Matches(mid)       | Matches(high)    | Matches(low)     | Matches(mid)     | Matches(high)    | Matches(low)     | Matches(mid)     | Matches(high)    | Matches(low)     | Matches(mid)     | Matches(high)    | Matches(low)     | Matches(mid)     | Matches(high)    | Matches(low)     | Matches(mid)     |\n",
      "+-----------------+-------------------+-------------------+-------------------+-------------------+-------------------+-------------------+-------------------+-------------------+-------------------+-------------------+-------------------+-------------------+-------------------+-------------------+-------------------+-------------------+-------------------+-------------------+-------------------+-------------------+-------------------+-------------------+-------------------+-------------------+------------------+------------------+------------------+------------------+------------------+------------------+------------------+------------------+------------------+------------------+------------------+------------------+------------------+------------------+------------------+------------------+------------------+------------------+------------------+------------------+------------------+------------------+------------------+------------------+------------------+------------------+------------------+------------------+------------------+------------------+------------------+------------------+--------------------+------------------+------------------+------------------+------------------+------------------+------------------+------------------+------------------+------------------+------------------+------------------+------------------+------------------+------------------+------------------+\n",
      "| Champion(False) | 0.5               | 1.0               | 0.5               | 0.5               | 0.5               | 0.5               | 0.5               | 1.0               | 0.5               | 0.5               | 0.5               | 1.0               | 0.5               | 0.5               | 0.5               | 0.5               | 0.5               | 0.0               | 0.5               | 0.5               | 0.5               | 0.5               | 0.5               | 0.5               | 0.5              | 1.0              | 1.0              | 0.5              | 0.5              | 1.0              | 0.5              | 0.5              | 1.0              | 0.5              | 0.5              | 0.5              | 0.5              | 0.5              | 1.0              | 0.5              | 0.5              | 0.5              | 0.5              | 0.5              | 1.0              | 0.5              | 0.5              | 0.5              | 1.0              | 0.5              | 1.0              | 1.0              | 1.0              | 1.0              | 0.6              | 0.0              | 0.7272727272727273 | 0.5              | 0.5              | 1.0              | 0.0              | 0.5              | 1.0              | 0.5              | 0.5              | 0.5              | 0.0              | 0.5              | 1.0              | 1.0              | 0.5              | 0.5              |\n",
      "+-----------------+-------------------+-------------------+-------------------+-------------------+-------------------+-------------------+-------------------+-------------------+-------------------+-------------------+-------------------+-------------------+-------------------+-------------------+-------------------+-------------------+-------------------+-------------------+-------------------+-------------------+-------------------+-------------------+-------------------+-------------------+------------------+------------------+------------------+------------------+------------------+------------------+------------------+------------------+------------------+------------------+------------------+------------------+------------------+------------------+------------------+------------------+------------------+------------------+------------------+------------------+------------------+------------------+------------------+------------------+------------------+------------------+------------------+------------------+------------------+------------------+------------------+------------------+--------------------+------------------+------------------+------------------+------------------+------------------+------------------+------------------+------------------+------------------+------------------+------------------+------------------+------------------+------------------+------------------+\n",
      "| Champion(True)  | 0.5               | 0.0               | 0.5               | 0.5               | 0.5               | 0.5               | 0.5               | 0.0               | 0.5               | 0.5               | 0.5               | 0.0               | 0.5               | 0.5               | 0.5               | 0.5               | 0.5               | 1.0               | 0.5               | 0.5               | 0.5               | 0.5               | 0.5               | 0.5               | 0.5              | 0.0              | 0.0              | 0.5              | 0.5              | 0.0              | 0.5              | 0.5              | 0.0              | 0.5              | 0.5              | 0.5              | 0.5              | 0.5              | 0.0              | 0.5              | 0.5              | 0.5              | 0.5              | 0.5              | 0.0              | 0.5              | 0.5              | 0.5              | 0.0              | 0.5              | 0.0              | 0.0              | 0.0              | 0.0              | 0.4              | 1.0              | 0.2727272727272727 | 0.5              | 0.5              | 0.0              | 1.0              | 0.5              | 0.0              | 0.5              | 0.5              | 0.5              | 1.0              | 0.5              | 0.0              | 0.0              | 0.5              | 0.5              |\n",
      "+-----------------+-------------------+-------------------+-------------------+-------------------+-------------------+-------------------+-------------------+-------------------+-------------------+-------------------+-------------------+-------------------+-------------------+-------------------+-------------------+-------------------+-------------------+-------------------+-------------------+-------------------+-------------------+-------------------+-------------------+-------------------+------------------+------------------+------------------+------------------+------------------+------------------+------------------+------------------+------------------+------------------+------------------+------------------+------------------+------------------+------------------+------------------+------------------+------------------+------------------+------------------+------------------+------------------+------------------+------------------+------------------+------------------+------------------+------------------+------------------+------------------+------------------+------------------+--------------------+------------------+------------------+------------------+------------------+------------------+------------------+------------------+------------------+------------------+------------------+------------------+------------------+------------------+------------------+------------------+\n"
     ]
    }
   ],
   "metadata": {}
  },
  {
   "cell_type": "code",
   "execution_count": 22,
   "source": [
    "infer = VariableElimination(model)"
   ],
   "outputs": [],
   "metadata": {}
  },
  {
   "cell_type": "code",
   "execution_count": 23,
   "source": [
    "Country = 'Albania'\r\n",
    "print(Country)\r\n",
    "print(infer.query(variables = ['Champion'], evidence = {'Country': Country}))"
   ],
   "outputs": [
    {
     "output_type": "stream",
     "name": "stdout",
     "text": [
      "Albania\n"
     ]
    },
    {
     "output_type": "stream",
     "name": "stderr",
     "text": [
      "Eliminating: Matches: 100%|██████████| 4/4 [00:00<00:00, 93.08it/s]"
     ]
    },
    {
     "output_type": "stream",
     "name": "stdout",
     "text": [
      "+-----------------+-----------------+\n",
      "| Champion        |   phi(Champion) |\n",
      "+=================+=================+\n",
      "| Champion(False) |          0.9505 |\n",
      "+-----------------+-----------------+\n",
      "| Champion(True)  |          0.0495 |\n",
      "+-----------------+-----------------+\n"
     ]
    },
    {
     "output_type": "stream",
     "name": "stderr",
     "text": [
      "\n"
     ]
    }
   ],
   "metadata": {}
  },
  {
   "cell_type": "code",
   "execution_count": 24,
   "source": [
    "Country = 'Austria'\r\n",
    "print(Country)\r\n",
    "print(infer.query(variables = ['Champion'], evidence = {'Country': Country}))"
   ],
   "outputs": [
    {
     "output_type": "stream",
     "name": "stdout",
     "text": [
      "Austria\n"
     ]
    },
    {
     "output_type": "stream",
     "name": "stderr",
     "text": [
      "\n",
      "\u001b[A\n",
      "\u001b[A\n",
      "\u001b[A\n",
      "\u001b[A\n",
      "Eliminating: Matches: 100%|██████████| 4/4 [00:00<00:00, 90.96it/s]"
     ]
    },
    {
     "output_type": "stream",
     "name": "stdout",
     "text": [
      "+-----------------+-----------------+\n",
      "| Champion        |   phi(Champion) |\n",
      "+=================+=================+\n",
      "| Champion(False) |          0.9505 |\n",
      "+-----------------+-----------------+\n",
      "| Champion(True)  |          0.0495 |\n",
      "+-----------------+-----------------+\n"
     ]
    },
    {
     "output_type": "stream",
     "name": "stderr",
     "text": [
      "\n"
     ]
    }
   ],
   "metadata": {}
  },
  {
   "cell_type": "code",
   "execution_count": 25,
   "source": [
    "Country = 'Belgium'\r\n",
    "print(Country)\r\n",
    "print(infer.query(variables = ['Champion'], evidence = {'Country': Country}))"
   ],
   "outputs": [
    {
     "output_type": "stream",
     "name": "stderr",
     "text": [
      "Finding Elimination Order: : 100%|██████████| 4/4 [00:00<00:00,  4.63it/s]\n",
      "Finding Elimination Order: : 100%|██████████| 4/4 [00:00<00:00,  8.46it/s]\n"
     ]
    },
    {
     "output_type": "stream",
     "name": "stdout",
     "text": [
      "Belgium\n"
     ]
    },
    {
     "output_type": "stream",
     "name": "stderr",
     "text": [
      "Eliminating: Matches: 100%|██████████| 4/4 [00:00<00:00, 93.06it/s]"
     ]
    },
    {
     "output_type": "stream",
     "name": "stdout",
     "text": [
      "+-----------------+-----------------+\n",
      "| Champion        |   phi(Champion) |\n",
      "+=================+=================+\n",
      "| Champion(False) |          0.9583 |\n",
      "+-----------------+-----------------+\n",
      "| Champion(True)  |          0.0417 |\n",
      "+-----------------+-----------------+\n"
     ]
    },
    {
     "output_type": "stream",
     "name": "stderr",
     "text": [
      "\n"
     ]
    }
   ],
   "metadata": {}
  },
  {
   "cell_type": "code",
   "execution_count": 26,
   "source": [
    "Country = 'Bulgaria'\r\n",
    "print(Country)\r\n",
    "print(infer.query(variables = ['Champion'], evidence = {'Country': Country}))"
   ],
   "outputs": [
    {
     "output_type": "stream",
     "name": "stdout",
     "text": [
      "Bulgaria\n"
     ]
    },
    {
     "output_type": "stream",
     "name": "stderr",
     "text": [
      "\n",
      "\u001b[A\n",
      "\u001b[A\n",
      "\u001b[A\n",
      "\u001b[A\n",
      "Eliminating: Matches: 100%|██████████| 4/4 [00:00<00:00, 90.96it/s]"
     ]
    },
    {
     "output_type": "stream",
     "name": "stdout",
     "text": [
      "+-----------------+-----------------+\n",
      "| Champion        |   phi(Champion) |\n",
      "+=================+=================+\n",
      "| Champion(False) |          0.9505 |\n",
      "+-----------------+-----------------+\n",
      "| Champion(True)  |          0.0495 |\n",
      "+-----------------+-----------------+\n"
     ]
    },
    {
     "output_type": "stream",
     "name": "stderr",
     "text": [
      "\n"
     ]
    }
   ],
   "metadata": {}
  },
  {
   "cell_type": "code",
   "execution_count": 27,
   "source": [
    "Country = 'CIS'\r\n",
    "print(Country)\r\n",
    "print(infer.query(variables = ['Champion'], evidence = {'Country': Country}))"
   ],
   "outputs": [
    {
     "output_type": "stream",
     "name": "stdout",
     "text": [
      "CIS\n"
     ]
    },
    {
     "output_type": "stream",
     "name": "stderr",
     "text": [
      "\n",
      "\u001b[A\n",
      "\u001b[A\n",
      "\n",
      "\u001b[A\u001b[A\n",
      "\n",
      "\u001b[A\u001b[A\n",
      "\n",
      "\u001b[A\u001b[A\n",
      "\n",
      "\u001b[A\u001b[A\n",
      "\n",
      "Eliminating: Matches: 100%|██████████| 4/4 [00:00<00:00, 108.17it/s]"
     ]
    },
    {
     "output_type": "stream",
     "name": "stdout",
     "text": [
      "+-----------------+-----------------+\n",
      "| Champion        |   phi(Champion) |\n",
      "+=================+=================+\n",
      "| Champion(False) |          0.9505 |\n",
      "+-----------------+-----------------+\n",
      "| Champion(True)  |          0.0495 |\n",
      "+-----------------+-----------------+\n"
     ]
    },
    {
     "output_type": "stream",
     "name": "stderr",
     "text": [
      "\n"
     ]
    }
   ],
   "metadata": {}
  },
  {
   "cell_type": "code",
   "execution_count": 28,
   "source": [
    "Country = 'Croatia'\r\n",
    "print(Country)\r\n",
    "print(infer.query(variables = ['Champion'], evidence = {'Country': Country}))"
   ],
   "outputs": [
    {
     "output_type": "stream",
     "name": "stdout",
     "text": [
      "Croatia\n"
     ]
    },
    {
     "output_type": "stream",
     "name": "stderr",
     "text": [
      "\n",
      "\n",
      "\u001b[A\u001b[A\n",
      "\n",
      "\u001b[A\u001b[A\n",
      "\n",
      "\n",
      "\u001b[A\u001b[A\u001b[A\n",
      "\n",
      "\n",
      "\u001b[A\u001b[A\u001b[A\n",
      "\n",
      "\n",
      "\u001b[A\u001b[A\u001b[A\n",
      "\n",
      "\n",
      "\u001b[A\u001b[A\u001b[A\n",
      "\n",
      "\n",
      "Eliminating: Matches: 100%|██████████| 4/4 [00:00<00:00, 50.03it/s]"
     ]
    },
    {
     "output_type": "stream",
     "name": "stdout",
     "text": [
      "+-----------------+-----------------+\n",
      "| Champion        |   phi(Champion) |\n",
      "+=================+=================+\n",
      "| Champion(False) |          0.9661 |\n",
      "+-----------------+-----------------+\n",
      "| Champion(True)  |          0.0339 |\n",
      "+-----------------+-----------------+\n"
     ]
    },
    {
     "output_type": "stream",
     "name": "stderr",
     "text": [
      "\n"
     ]
    }
   ],
   "metadata": {}
  },
  {
   "cell_type": "code",
   "execution_count": 29,
   "source": [
    "Country = 'Czech Republic'\r\n",
    "print(Country)\r\n",
    "print(infer.query(variables = ['Champion'], evidence = {'Country': Country}))"
   ],
   "outputs": [
    {
     "output_type": "stream",
     "name": "stderr",
     "text": [
      "Finding Elimination Order: : 100%|██████████| 4/4 [00:02<00:00,  1.74it/s]\n",
      "Finding Elimination Order: : 100%|██████████| 4/4 [00:01<00:00,  2.34it/s]\n",
      "Finding Elimination Order: : 100%|██████████| 4/4 [00:01<00:00,  3.40it/s]\n",
      "Finding Elimination Order: : 100%|██████████| 4/4 [00:00<00:00,  7.19it/s]\n"
     ]
    },
    {
     "output_type": "stream",
     "name": "stdout",
     "text": [
      "Czech Republic\n"
     ]
    },
    {
     "output_type": "stream",
     "name": "stderr",
     "text": [
      "Eliminating: Matches: 100%|██████████| 4/4 [00:00<00:00, 66.66it/s]"
     ]
    },
    {
     "output_type": "stream",
     "name": "stdout",
     "text": [
      "+-----------------+-----------------+\n",
      "| Champion        |   phi(Champion) |\n",
      "+=================+=================+\n",
      "| Champion(False) |          0.9599 |\n",
      "+-----------------+-----------------+\n",
      "| Champion(True)  |          0.0401 |\n",
      "+-----------------+-----------------+\n"
     ]
    },
    {
     "output_type": "stream",
     "name": "stderr",
     "text": [
      "\n"
     ]
    }
   ],
   "metadata": {}
  },
  {
   "cell_type": "code",
   "execution_count": 30,
   "source": [
    "Country = 'Czechoslovakia'\r\n",
    "print(Country)\r\n",
    "print(infer.query(variables = ['Champion'], evidence = {'Country': Country}))"
   ],
   "outputs": [
    {
     "output_type": "stream",
     "name": "stdout",
     "text": [
      "Czechoslovakia\n"
     ]
    },
    {
     "output_type": "stream",
     "name": "stderr",
     "text": [
      "\n",
      "\u001b[A\n",
      "\u001b[A\n",
      "\u001b[A\n",
      "\u001b[A\n",
      "Eliminating: Matches: 100%|██████████| 4/4 [00:00<00:00, 90.96it/s]"
     ]
    },
    {
     "output_type": "stream",
     "name": "stdout",
     "text": [
      "+-----------------+-----------------+\n",
      "| Champion        |   phi(Champion) |\n",
      "+=================+=================+\n",
      "| Champion(False) |          0.8199 |\n",
      "+-----------------+-----------------+\n",
      "| Champion(True)  |          0.1801 |\n",
      "+-----------------+-----------------+\n"
     ]
    },
    {
     "output_type": "stream",
     "name": "stderr",
     "text": [
      "\n"
     ]
    }
   ],
   "metadata": {}
  },
  {
   "cell_type": "code",
   "execution_count": 31,
   "source": [
    "Country = 'Denmark'\r\n",
    "print(Country)\r\n",
    "print(infer.query(variables = ['Champion'], evidence = {'Country': Country}))"
   ],
   "outputs": [
    {
     "output_type": "stream",
     "name": "stdout",
     "text": [
      "Denmark\n"
     ]
    },
    {
     "output_type": "stream",
     "name": "stderr",
     "text": [
      "\n",
      "\u001b[A\n",
      "\u001b[A\n",
      "\n",
      "\u001b[A\u001b[A\n",
      "\n",
      "\u001b[A\u001b[A\n",
      "\n",
      "\u001b[A\u001b[A\n",
      "\n",
      "\u001b[A\u001b[A\n",
      "\n",
      "Eliminating: Matches: 100%|██████████| 4/4 [00:00<00:00, 81.68it/s]"
     ]
    },
    {
     "output_type": "stream",
     "name": "stdout",
     "text": [
      "+-----------------+-----------------+\n",
      "| Champion        |   phi(Champion) |\n",
      "+=================+=================+\n",
      "| Champion(False) |          0.8395 |\n",
      "+-----------------+-----------------+\n",
      "| Champion(True)  |          0.1605 |\n",
      "+-----------------+-----------------+\n"
     ]
    },
    {
     "output_type": "stream",
     "name": "stderr",
     "text": [
      "\n"
     ]
    }
   ],
   "metadata": {}
  },
  {
   "cell_type": "code",
   "execution_count": 32,
   "source": [
    "Country = 'England'\r\n",
    "print(Country)\r\n",
    "print(infer.query(variables = ['Champion'], evidence = {'Country': Country}))"
   ],
   "outputs": [
    {
     "output_type": "stream",
     "name": "stdout",
     "text": [
      "England\n"
     ]
    },
    {
     "output_type": "stream",
     "name": "stderr",
     "text": [
      "\n",
      "\n",
      "\u001b[A\u001b[A\n",
      "\n",
      "\u001b[A\u001b[A\n",
      "\n",
      "\n",
      "\u001b[A\u001b[A\u001b[A\n",
      "\n",
      "\n",
      "\u001b[A\u001b[A\u001b[A\n",
      "\n",
      "\n",
      "\u001b[A\u001b[A\u001b[A\n",
      "\n",
      "\n",
      "\u001b[A\u001b[A\u001b[A\n",
      "\n",
      "\n",
      "Eliminating: Matches: 100%|██████████| 4/4 [00:00<00:00, 102.62it/s]"
     ]
    },
    {
     "output_type": "stream",
     "name": "stdout",
     "text": [
      "+-----------------+-----------------+\n",
      "| Champion        |   phi(Champion) |\n",
      "+=================+=================+\n",
      "| Champion(False) |          0.9564 |\n",
      "+-----------------+-----------------+\n",
      "| Champion(True)  |          0.0436 |\n",
      "+-----------------+-----------------+\n"
     ]
    },
    {
     "output_type": "stream",
     "name": "stderr",
     "text": [
      "\n"
     ]
    }
   ],
   "metadata": {}
  },
  {
   "cell_type": "code",
   "execution_count": 33,
   "source": [
    "Country = 'FR Yugoslavia'\r\n",
    "print(Country)\r\n",
    "print(infer.query(variables = ['Champion'], evidence = {'Country': Country}))"
   ],
   "outputs": [
    {
     "output_type": "stream",
     "name": "stderr",
     "text": [
      "Finding Elimination Order: : 100%|██████████| 4/4 [00:01<00:00,  2.00it/s]\n",
      "Finding Elimination Order: : 100%|██████████| 4/4 [00:01<00:00,  2.77it/s]\n",
      "Finding Elimination Order: : 100%|██████████| 4/4 [00:00<00:00,  4.23it/s]\n",
      "Finding Elimination Order: : 100%|██████████| 4/4 [00:00<00:00,  9.42it/s]\n"
     ]
    },
    {
     "output_type": "stream",
     "name": "stdout",
     "text": [
      "FR Yugoslavia\n"
     ]
    },
    {
     "output_type": "stream",
     "name": "stderr",
     "text": [
      "Eliminating: Matches: 100%|██████████| 4/4 [00:00<00:00, 72.77it/s]"
     ]
    },
    {
     "output_type": "stream",
     "name": "stdout",
     "text": [
      "+-----------------+-----------------+\n",
      "| Champion        |   phi(Champion) |\n",
      "+=================+=================+\n",
      "| Champion(False) |          0.9661 |\n",
      "+-----------------+-----------------+\n",
      "| Champion(True)  |          0.0339 |\n",
      "+-----------------+-----------------+\n"
     ]
    },
    {
     "output_type": "stream",
     "name": "stderr",
     "text": [
      "\n"
     ]
    }
   ],
   "metadata": {}
  },
  {
   "cell_type": "code",
   "execution_count": 34,
   "source": [
    "Country = 'France'\r\n",
    "print(Country)\r\n",
    "print(infer.query(variables = ['Champion'], evidence = {'Country': Country}))"
   ],
   "outputs": [
    {
     "output_type": "stream",
     "name": "stdout",
     "text": [
      "France\n"
     ]
    },
    {
     "output_type": "stream",
     "name": "stderr",
     "text": [
      "\n",
      "\u001b[A\n",
      "\u001b[A\n",
      "\u001b[A\n",
      "\u001b[A\n",
      "Eliminating: Matches: 100%|██████████| 4/4 [00:00<00:00, 121.28it/s]"
     ]
    },
    {
     "output_type": "stream",
     "name": "stdout",
     "text": [
      "+-----------------+-----------------+\n",
      "| Champion        |   phi(Champion) |\n",
      "+=================+=================+\n",
      "| Champion(False) |          0.8173 |\n",
      "+-----------------+-----------------+\n",
      "| Champion(True)  |          0.1827 |\n",
      "+-----------------+-----------------+\n"
     ]
    },
    {
     "output_type": "stream",
     "name": "stderr",
     "text": [
      "\n"
     ]
    }
   ],
   "metadata": {}
  },
  {
   "cell_type": "code",
   "execution_count": 35,
   "source": [
    "Country = 'Germany'\r\n",
    "print(Country)\r\n",
    "print(infer.query(variables = ['Champion'], evidence = {'Country': Country}))"
   ],
   "outputs": [
    {
     "output_type": "stream",
     "name": "stdout",
     "text": [
      "Germany\n"
     ]
    },
    {
     "output_type": "stream",
     "name": "stderr",
     "text": [
      "\n",
      "\u001b[A\n",
      "\u001b[A\n",
      "\n",
      "\u001b[A\u001b[A\n",
      "\n",
      "\u001b[A\u001b[A\n",
      "\n",
      "\u001b[A\u001b[A\n",
      "\n",
      "\u001b[A\u001b[A\n",
      "\n",
      "Eliminating: Matches: 100%|██████████| 4/4 [00:00<00:00, 142.94it/s]"
     ]
    },
    {
     "output_type": "stream",
     "name": "stdout",
     "text": [
      "+-----------------+-----------------+\n",
      "| Champion        |   phi(Champion) |\n",
      "+=================+=================+\n",
      "| Champion(False) |          0.7322 |\n",
      "+-----------------+-----------------+\n",
      "| Champion(True)  |          0.2678 |\n",
      "+-----------------+-----------------+\n"
     ]
    },
    {
     "output_type": "stream",
     "name": "stderr",
     "text": [
      "\n"
     ]
    }
   ],
   "metadata": {}
  },
  {
   "cell_type": "code",
   "execution_count": 36,
   "source": [
    "Country = 'Greece'\r\n",
    "print(Country)\r\n",
    "print(infer.query(variables = ['Champion'], evidence = {'Country': Country}))"
   ],
   "outputs": [
    {
     "output_type": "stream",
     "name": "stdout",
     "text": [
      "Greece\n"
     ]
    },
    {
     "output_type": "stream",
     "name": "stderr",
     "text": [
      "\n",
      "\n",
      "\u001b[A\u001b[A\n",
      "\n",
      "\u001b[A\u001b[A\n",
      "\n",
      "\n",
      "\u001b[A\u001b[A\u001b[A\n",
      "\n",
      "\n",
      "\u001b[A\u001b[A\u001b[A\n",
      "\n",
      "\n",
      "\u001b[A\u001b[A\u001b[A\n",
      "\n",
      "\n",
      "\u001b[A\u001b[A\u001b[A\n",
      "\n",
      "\n",
      "Eliminating: Matches: 100%|██████████| 4/4 [00:00<00:00, 59.73it/s]"
     ]
    },
    {
     "output_type": "stream",
     "name": "stdout",
     "text": [
      "+-----------------+-----------------+\n",
      "| Champion        |   phi(Champion) |\n",
      "+=================+=================+\n",
      "| Champion(False) |          0.9235 |\n",
      "+-----------------+-----------------+\n",
      "| Champion(True)  |          0.0765 |\n",
      "+-----------------+-----------------+\n"
     ]
    },
    {
     "output_type": "stream",
     "name": "stderr",
     "text": [
      "\n"
     ]
    }
   ],
   "metadata": {}
  },
  {
   "cell_type": "code",
   "execution_count": 37,
   "source": [
    "Country = 'Hungary'\r\n",
    "print(Country)\r\n",
    "print(infer.query(variables = ['Champion'], evidence = {'Country': Country}))"
   ],
   "outputs": [
    {
     "output_type": "stream",
     "name": "stderr",
     "text": [
      "Finding Elimination Order: : 100%|██████████| 4/4 [00:01<00:00,  2.16it/s]\n",
      "Finding Elimination Order: : 100%|██████████| 4/4 [00:01<00:00,  2.87it/s]\n",
      "Finding Elimination Order: : 100%|██████████| 4/4 [00:00<00:00,  4.60it/s]\n",
      "Finding Elimination Order: : 100%|██████████| 4/4 [00:00<00:00, 10.13it/s]\n"
     ]
    },
    {
     "output_type": "stream",
     "name": "stdout",
     "text": [
      "Hungary\n"
     ]
    },
    {
     "output_type": "stream",
     "name": "stderr",
     "text": [
      "Eliminating: Matches: 100%|██████████| 4/4 [00:00<00:00, 102.62it/s]"
     ]
    },
    {
     "output_type": "stream",
     "name": "stdout",
     "text": [
      "+-----------------+-----------------+\n",
      "| Champion        |   phi(Champion) |\n",
      "+=================+=================+\n",
      "| Champion(False) |          0.9661 |\n",
      "+-----------------+-----------------+\n",
      "| Champion(True)  |          0.0339 |\n",
      "+-----------------+-----------------+\n"
     ]
    },
    {
     "output_type": "stream",
     "name": "stderr",
     "text": [
      "\n"
     ]
    }
   ],
   "metadata": {}
  },
  {
   "cell_type": "code",
   "execution_count": 38,
   "source": [
    "Country = 'Iceland'\r\n",
    "print(Country)\r\n",
    "print(infer.query(variables = ['Champion'], evidence = {'Country': Country}))"
   ],
   "outputs": [
    {
     "output_type": "stream",
     "name": "stdout",
     "text": [
      "Iceland\n"
     ]
    },
    {
     "output_type": "stream",
     "name": "stderr",
     "text": [
      "\n",
      "\u001b[A\n",
      "\u001b[A\n",
      "\u001b[A\n",
      "\u001b[A\n",
      "Eliminating: Matches: 100%|██████████| 4/4 [00:00<00:00, 153.93it/s]"
     ]
    },
    {
     "output_type": "stream",
     "name": "stdout",
     "text": [
      "+-----------------+-----------------+\n",
      "| Champion        |   phi(Champion) |\n",
      "+=================+=================+\n",
      "| Champion(False) |          0.9661 |\n",
      "+-----------------+-----------------+\n",
      "| Champion(True)  |          0.0339 |\n",
      "+-----------------+-----------------+\n"
     ]
    },
    {
     "output_type": "stream",
     "name": "stderr",
     "text": [
      "\n"
     ]
    }
   ],
   "metadata": {}
  },
  {
   "cell_type": "code",
   "execution_count": 39,
   "source": [
    "Country = 'Italy'\r\n",
    "print(Country)\r\n",
    "print(infer.query(variables = ['Champion'], evidence = {'Country': Country}))"
   ],
   "outputs": [
    {
     "output_type": "stream",
     "name": "stdout",
     "text": [
      "Italy\n"
     ]
    },
    {
     "output_type": "stream",
     "name": "stderr",
     "text": [
      "\n",
      "\u001b[A\n",
      "\u001b[A\n",
      "\n",
      "\u001b[A\u001b[A\n",
      "\n",
      "\u001b[A\u001b[A\n",
      "\n",
      "\u001b[A\u001b[A\n",
      "\n",
      "\u001b[A\u001b[A\n",
      "\n",
      "Eliminating: Matches: 100%|██████████| 4/4 [00:00<00:00, 111.17it/s]"
     ]
    },
    {
     "output_type": "stream",
     "name": "stdout",
     "text": [
      "+-----------------+-----------------+\n",
      "| Champion        |   phi(Champion) |\n",
      "+=================+=================+\n",
      "| Champion(False) |          0.8263 |\n",
      "+-----------------+-----------------+\n",
      "| Champion(True)  |          0.1737 |\n",
      "+-----------------+-----------------+\n"
     ]
    },
    {
     "output_type": "stream",
     "name": "stderr",
     "text": [
      "\n"
     ]
    }
   ],
   "metadata": {}
  },
  {
   "cell_type": "code",
   "execution_count": 40,
   "source": [
    "Country = 'Latvia'\r\n",
    "print(Country)\r\n",
    "print(infer.query(variables = ['Champion'], evidence = {'Country': Country}))"
   ],
   "outputs": [
    {
     "output_type": "stream",
     "name": "stdout",
     "text": [
      "Latvia\n"
     ]
    },
    {
     "output_type": "stream",
     "name": "stderr",
     "text": [
      "\n",
      "\n",
      "\u001b[A\u001b[A\n",
      "\n",
      "\u001b[A\u001b[A\n",
      "\n",
      "\n",
      "\u001b[A\u001b[A\u001b[A\n",
      "\n",
      "\n",
      "\u001b[A\u001b[A\u001b[A\n",
      "\n",
      "\n",
      "\u001b[A\u001b[A\u001b[A\n",
      "\n",
      "\n",
      "\u001b[A\u001b[A\u001b[A\n",
      "\n",
      "\n",
      "Eliminating: Matches: 100%|██████████| 4/4 [00:00<00:00, 65.62it/s]"
     ]
    },
    {
     "output_type": "stream",
     "name": "stdout",
     "text": [
      "+-----------------+-----------------+\n",
      "| Champion        |   phi(Champion) |\n",
      "+=================+=================+\n",
      "| Champion(False) |          0.9505 |\n",
      "+-----------------+-----------------+\n",
      "| Champion(True)  |          0.0495 |\n",
      "+-----------------+-----------------+\n"
     ]
    },
    {
     "output_type": "stream",
     "name": "stderr",
     "text": [
      "\n"
     ]
    }
   ],
   "metadata": {}
  },
  {
   "cell_type": "code",
   "execution_count": 41,
   "source": [
    "Country = 'Netherlands'\r\n",
    "print(Country)\r\n",
    "print(infer.query(variables = ['Champion'], evidence = {'Country': Country}))"
   ],
   "outputs": [
    {
     "output_type": "stream",
     "name": "stderr",
     "text": [
      "Finding Elimination Order: : 100%|██████████| 4/4 [00:01<00:00,  2.04it/s]\n",
      "Finding Elimination Order: : 100%|██████████| 4/4 [00:01<00:00,  2.68it/s]\n",
      "Finding Elimination Order: : 100%|██████████| 4/4 [00:00<00:00,  4.22it/s]\n",
      "Finding Elimination Order: : 100%|██████████| 4/4 [00:00<00:00,  8.29it/s]\n"
     ]
    },
    {
     "output_type": "stream",
     "name": "stdout",
     "text": [
      "Netherlands\n"
     ]
    },
    {
     "output_type": "stream",
     "name": "stderr",
     "text": [
      "Eliminating: Matches: 100%|██████████| 4/4 [00:00<00:00, 100.06it/s]"
     ]
    },
    {
     "output_type": "stream",
     "name": "stdout",
     "text": [
      "+-----------------+-----------------+\n",
      "| Champion        |   phi(Champion) |\n",
      "+=================+=================+\n",
      "| Champion(False) |          0.7504 |\n",
      "+-----------------+-----------------+\n",
      "| Champion(True)  |          0.2496 |\n",
      "+-----------------+-----------------+\n"
     ]
    },
    {
     "output_type": "stream",
     "name": "stderr",
     "text": [
      "\n"
     ]
    }
   ],
   "metadata": {}
  },
  {
   "cell_type": "code",
   "execution_count": 42,
   "source": [
    "Country = 'Northern Ireland'\r\n",
    "print(Country)\r\n",
    "print(infer.query(variables = ['Champion'], evidence = {'Country': Country}))"
   ],
   "outputs": [
    {
     "output_type": "stream",
     "name": "stdout",
     "text": [
      "Northern Ireland\n"
     ]
    },
    {
     "output_type": "stream",
     "name": "stderr",
     "text": [
      "\n",
      "\u001b[A\n",
      "\u001b[A\n",
      "\u001b[A\n",
      "\u001b[A\n",
      "Eliminating: Matches: 100%|██████████| 4/4 [00:00<00:00, 97.62it/s]"
     ]
    },
    {
     "output_type": "stream",
     "name": "stdout",
     "text": [
      "+-----------------+-----------------+\n",
      "| Champion        |   phi(Champion) |\n",
      "+=================+=================+\n",
      "| Champion(False) |          0.9505 |\n",
      "+-----------------+-----------------+\n",
      "| Champion(True)  |          0.0495 |\n",
      "+-----------------+-----------------+\n"
     ]
    },
    {
     "output_type": "stream",
     "name": "stderr",
     "text": [
      "\n"
     ]
    }
   ],
   "metadata": {}
  },
  {
   "cell_type": "code",
   "execution_count": 43,
   "source": [
    "Country = 'Norway'\r\n",
    "print(Country)\r\n",
    "print(infer.query(variables = ['Champion'], evidence = {'Country': Country}))"
   ],
   "outputs": [
    {
     "output_type": "stream",
     "name": "stdout",
     "text": [
      "Norway\n"
     ]
    },
    {
     "output_type": "stream",
     "name": "stderr",
     "text": [
      "\n",
      "\u001b[A\n",
      "\u001b[A\n",
      "\n",
      "\u001b[A\u001b[A\n",
      "\n",
      "\u001b[A\u001b[A\n",
      "\n",
      "\u001b[A\u001b[A\n",
      "\n",
      "\u001b[A\u001b[A\n",
      "\n",
      "Eliminating: Matches: 100%|██████████| 4/4 [00:00<00:00, 75.51it/s]"
     ]
    },
    {
     "output_type": "stream",
     "name": "stdout",
     "text": [
      "+-----------------+-----------------+\n",
      "| Champion        |   phi(Champion) |\n",
      "+=================+=================+\n",
      "| Champion(False) |          0.9505 |\n",
      "+-----------------+-----------------+\n",
      "| Champion(True)  |          0.0495 |\n",
      "+-----------------+-----------------+\n"
     ]
    },
    {
     "output_type": "stream",
     "name": "stderr",
     "text": [
      "\n"
     ]
    }
   ],
   "metadata": {}
  },
  {
   "cell_type": "code",
   "execution_count": 44,
   "source": [
    "Country = 'Poland'\r\n",
    "print(Country)\r\n",
    "print(infer.query(variables = ['Champion'], evidence = {'Country': Country}))"
   ],
   "outputs": [
    {
     "output_type": "stream",
     "name": "stdout",
     "text": [
      "Poland\n"
     ]
    },
    {
     "output_type": "stream",
     "name": "stderr",
     "text": [
      "\n",
      "\n",
      "\u001b[A\u001b[A\n",
      "\n",
      "\u001b[A\u001b[A\n",
      "\n",
      "\n",
      "\u001b[A\u001b[A\u001b[A\n",
      "\n",
      "\n",
      "\u001b[A\u001b[A\u001b[A\n",
      "\n",
      "\n",
      "\u001b[A\u001b[A\u001b[A\n",
      "\n",
      "\n",
      "\u001b[A\u001b[A\u001b[A\n",
      "\n",
      "\n",
      "Eliminating: Matches: 100%|██████████| 4/4 [00:00<00:00, 80.05it/s]"
     ]
    },
    {
     "output_type": "stream",
     "name": "stdout",
     "text": [
      "+-----------------+-----------------+\n",
      "| Champion        |   phi(Champion) |\n",
      "+=================+=================+\n",
      "| Champion(False) |          0.9505 |\n",
      "+-----------------+-----------------+\n",
      "| Champion(True)  |          0.0495 |\n",
      "+-----------------+-----------------+\n"
     ]
    },
    {
     "output_type": "stream",
     "name": "stderr",
     "text": [
      "\n"
     ]
    }
   ],
   "metadata": {}
  },
  {
   "cell_type": "code",
   "execution_count": 45,
   "source": [
    "Country = 'Portugal'\r\n",
    "print(Country)\r\n",
    "print(infer.query(variables = ['Champion'], evidence = {'Country': Country}))"
   ],
   "outputs": [
    {
     "output_type": "stream",
     "name": "stderr",
     "text": [
      "Finding Elimination Order: : 100%|██████████| 4/4 [00:02<00:00,  1.89it/s]\n",
      "Finding Elimination Order: : 100%|██████████| 4/4 [00:01<00:00,  2.47it/s]\n",
      "Finding Elimination Order: : 100%|██████████| 4/4 [00:01<00:00,  3.56it/s]\n",
      "Finding Elimination Order: : 100%|██████████| 4/4 [00:00<00:00,  6.79it/s]\n"
     ]
    },
    {
     "output_type": "stream",
     "name": "stdout",
     "text": [
      "Portugal\n"
     ]
    },
    {
     "output_type": "stream",
     "name": "stderr",
     "text": [
      "Eliminating: Matches: 100%|██████████| 4/4 [00:00<00:00, 93.07it/s]"
     ]
    },
    {
     "output_type": "stream",
     "name": "stdout",
     "text": [
      "+-----------------+-----------------+\n",
      "| Champion        |   phi(Champion) |\n",
      "+=================+=================+\n",
      "| Champion(False) |          0.9434 |\n",
      "+-----------------+-----------------+\n",
      "| Champion(True)  |          0.0566 |\n",
      "+-----------------+-----------------+\n"
     ]
    },
    {
     "output_type": "stream",
     "name": "stderr",
     "text": [
      "\n"
     ]
    }
   ],
   "metadata": {}
  },
  {
   "cell_type": "code",
   "execution_count": 46,
   "source": [
    "Country = 'Republic of Ireland'\r\n",
    "print(Country)\r\n",
    "print(infer.query(variables = ['Champion'], evidence = {'Country': Country}))"
   ],
   "outputs": [
    {
     "output_type": "stream",
     "name": "stdout",
     "text": [
      "Republic of Ireland\n"
     ]
    },
    {
     "output_type": "stream",
     "name": "stderr",
     "text": [
      "\n",
      "\u001b[A\n",
      "\u001b[A\n",
      "\u001b[A\n",
      "\u001b[A\n",
      "Eliminating: Matches: 100%|██████████| 4/4 [00:00<00:00, 74.12it/s]"
     ]
    },
    {
     "output_type": "stream",
     "name": "stdout",
     "text": [
      "+-----------------+-----------------+\n",
      "| Champion        |   phi(Champion) |\n",
      "+=================+=================+\n",
      "| Champion(False) |          0.9505 |\n",
      "+-----------------+-----------------+\n",
      "| Champion(True)  |          0.0495 |\n",
      "+-----------------+-----------------+\n"
     ]
    },
    {
     "output_type": "stream",
     "name": "stderr",
     "text": [
      "\n"
     ]
    }
   ],
   "metadata": {}
  },
  {
   "cell_type": "code",
   "execution_count": 47,
   "source": [
    "Country = 'Romania'\r\n",
    "print(Country)\r\n",
    "print(infer.query(variables = ['Champion'], evidence = {'Country': Country}))"
   ],
   "outputs": [
    {
     "output_type": "stream",
     "name": "stdout",
     "text": [
      "Romania\n"
     ]
    },
    {
     "output_type": "stream",
     "name": "stderr",
     "text": [
      "\n",
      "\u001b[A\n",
      "\u001b[A\n",
      "\n",
      "\u001b[A\u001b[A\n",
      "\n",
      "\u001b[A\u001b[A\n",
      "\n",
      "\u001b[A\u001b[A\n",
      "\n",
      "\u001b[A\u001b[A\n",
      "\n",
      "Eliminating: Matches: 100%|██████████| 4/4 [00:00<00:00, 125.07it/s]"
     ]
    },
    {
     "output_type": "stream",
     "name": "stdout",
     "text": [
      "+-----------------+-----------------+\n",
      "| Champion        |   phi(Champion) |\n",
      "+=================+=================+\n",
      "| Champion(False) |          0.9505 |\n",
      "+-----------------+-----------------+\n",
      "| Champion(True)  |          0.0495 |\n",
      "+-----------------+-----------------+\n"
     ]
    },
    {
     "output_type": "stream",
     "name": "stderr",
     "text": [
      "\n"
     ]
    }
   ],
   "metadata": {}
  },
  {
   "cell_type": "code",
   "execution_count": 48,
   "source": [
    "Country = 'Russia'\r\n",
    "print(Country)\r\n",
    "print(infer.query(variables = ['Champion'], evidence = {'Country': Country}))"
   ],
   "outputs": [
    {
     "output_type": "stream",
     "name": "stdout",
     "text": [
      "Russia\n"
     ]
    },
    {
     "output_type": "stream",
     "name": "stderr",
     "text": [
      "\n",
      "\n",
      "\u001b[A\u001b[A\n",
      "\n",
      "\u001b[A\u001b[A\n",
      "\n",
      "\n",
      "\u001b[A\u001b[A\u001b[A\n",
      "\n",
      "\n",
      "\u001b[A\u001b[A\u001b[A\n",
      "\n",
      "\n",
      "\u001b[A\u001b[A\u001b[A\n",
      "\n",
      "\n",
      "\u001b[A\u001b[A\u001b[A\n",
      "\n",
      "\n",
      "Eliminating: Matches: 100%|██████████| 4/4 [00:00<00:00, 142.94it/s]"
     ]
    },
    {
     "output_type": "stream",
     "name": "stdout",
     "text": [
      "+-----------------+-----------------+\n",
      "| Champion        |   phi(Champion) |\n",
      "+=================+=================+\n",
      "| Champion(False) |          0.9594 |\n",
      "+-----------------+-----------------+\n",
      "| Champion(True)  |          0.0406 |\n",
      "+-----------------+-----------------+\n"
     ]
    },
    {
     "output_type": "stream",
     "name": "stderr",
     "text": [
      "\n"
     ]
    }
   ],
   "metadata": {}
  },
  {
   "cell_type": "code",
   "execution_count": 49,
   "source": [
    "Country = 'Scotland'\r\n",
    "print(Country)\r\n",
    "print(infer.query(variables = ['Champion'], evidence = {'Country': Country}))"
   ],
   "outputs": [
    {
     "output_type": "stream",
     "name": "stderr",
     "text": [
      "Finding Elimination Order: : 100%|██████████| 4/4 [00:01<00:00,  2.33it/s]\n",
      "Finding Elimination Order: : 100%|██████████| 4/4 [00:01<00:00,  3.14it/s]\n",
      "Finding Elimination Order: : 100%|██████████| 4/4 [00:00<00:00,  4.85it/s]\n",
      "Finding Elimination Order: : 100%|██████████| 4/4 [00:00<00:00, 10.39it/s]\n"
     ]
    },
    {
     "output_type": "stream",
     "name": "stdout",
     "text": [
      "Scotland\n"
     ]
    },
    {
     "output_type": "stream",
     "name": "stderr",
     "text": [
      "Eliminating: Matches: 100%|██████████| 4/4 [00:00<00:00, 88.94it/s]"
     ]
    },
    {
     "output_type": "stream",
     "name": "stdout",
     "text": [
      "+-----------------+-----------------+\n",
      "| Champion        |   phi(Champion) |\n",
      "+=================+=================+\n",
      "| Champion(False) |          0.9505 |\n",
      "+-----------------+-----------------+\n",
      "| Champion(True)  |          0.0495 |\n",
      "+-----------------+-----------------+\n"
     ]
    },
    {
     "output_type": "stream",
     "name": "stderr",
     "text": [
      "\n"
     ]
    }
   ],
   "metadata": {}
  },
  {
   "cell_type": "code",
   "execution_count": 50,
   "source": [
    "Country = 'Slovakia'\r\n",
    "print(Country)\r\n",
    "print(infer.query(variables = ['Champion'], evidence = {'Country': Country}))"
   ],
   "outputs": [
    {
     "output_type": "stream",
     "name": "stdout",
     "text": [
      "Slovakia\n"
     ]
    },
    {
     "output_type": "stream",
     "name": "stderr",
     "text": [
      "\n",
      "\u001b[A\n",
      "\u001b[A\n",
      "\u001b[A\n",
      "\u001b[A\n",
      "Eliminating: Matches: 100%|██████████| 4/4 [00:00<00:00, 85.16it/s]"
     ]
    },
    {
     "output_type": "stream",
     "name": "stdout",
     "text": [
      "+-----------------+-----------------+\n",
      "| Champion        |   phi(Champion) |\n",
      "+=================+=================+\n",
      "| Champion(False) |          0.9505 |\n",
      "+-----------------+-----------------+\n",
      "| Champion(True)  |          0.0495 |\n",
      "+-----------------+-----------------+\n"
     ]
    },
    {
     "output_type": "stream",
     "name": "stderr",
     "text": [
      "\n"
     ]
    }
   ],
   "metadata": {}
  },
  {
   "cell_type": "code",
   "execution_count": 51,
   "source": [
    "Country = 'Slovenia'\r\n",
    "print(Country)\r\n",
    "print(infer.query(variables = ['Champion'], evidence = {'Country': Country}))"
   ],
   "outputs": [
    {
     "output_type": "stream",
     "name": "stdout",
     "text": [
      "Slovenia\n"
     ]
    },
    {
     "output_type": "stream",
     "name": "stderr",
     "text": [
      "\n",
      "\u001b[A\n",
      "\u001b[A\n",
      "\n",
      "\u001b[A\u001b[A\n",
      "\n",
      "\u001b[A\u001b[A\n",
      "\n",
      "\u001b[A\u001b[A\n",
      "\n",
      "\u001b[A\u001b[A\n",
      "\n",
      "Eliminating: Matches: 100%|██████████| 4/4 [00:00<00:00, 125.07it/s]"
     ]
    },
    {
     "output_type": "stream",
     "name": "stdout",
     "text": [
      "+-----------------+-----------------+\n",
      "| Champion        |   phi(Champion) |\n",
      "+=================+=================+\n",
      "| Champion(False) |          0.9661 |\n",
      "+-----------------+-----------------+\n",
      "| Champion(True)  |          0.0339 |\n",
      "+-----------------+-----------------+\n"
     ]
    },
    {
     "output_type": "stream",
     "name": "stderr",
     "text": [
      "\n"
     ]
    }
   ],
   "metadata": {}
  },
  {
   "cell_type": "code",
   "execution_count": 52,
   "source": [
    "Country = 'Spain'\r\n",
    "print(Country)\r\n",
    "print(infer.query(variables = ['Champion'], evidence = {'Country': Country}))"
   ],
   "outputs": [
    {
     "output_type": "stream",
     "name": "stdout",
     "text": [
      "Spain\n"
     ]
    },
    {
     "output_type": "stream",
     "name": "stderr",
     "text": [
      "\n",
      "\n",
      "\u001b[A\u001b[A\n",
      "\n",
      "\u001b[A\u001b[A\n",
      "\n",
      "\n",
      "\u001b[A\u001b[A\u001b[A\n",
      "\n",
      "\n",
      "\u001b[A\u001b[A\u001b[A\n",
      "\n",
      "\n",
      "\u001b[A\u001b[A\u001b[A\n",
      "\n",
      "\n",
      "\u001b[A\u001b[A\u001b[A\n",
      "\n",
      "\n",
      "Eliminating: Matches: 100%|██████████| 4/4 [00:00<00:00, 108.16it/s]"
     ]
    },
    {
     "output_type": "stream",
     "name": "stdout",
     "text": [
      "+-----------------+-----------------+\n",
      "| Champion        |   phi(Champion) |\n",
      "+=================+=================+\n",
      "| Champion(False) |          0.8100 |\n",
      "+-----------------+-----------------+\n",
      "| Champion(True)  |          0.1900 |\n",
      "+-----------------+-----------------+\n"
     ]
    },
    {
     "output_type": "stream",
     "name": "stderr",
     "text": [
      "\n"
     ]
    }
   ],
   "metadata": {}
  },
  {
   "cell_type": "code",
   "execution_count": 53,
   "source": [
    "Country = 'Sweden'\r\n",
    "print(Country)\r\n",
    "print(infer.query(variables = ['Champion'], evidence = {'Country': Country}))"
   ],
   "outputs": [
    {
     "output_type": "stream",
     "name": "stderr",
     "text": [
      "Finding Elimination Order: : 100%|██████████| 4/4 [00:01<00:00,  2.27it/s]\n",
      "Finding Elimination Order: : 100%|██████████| 4/4 [00:01<00:00,  2.97it/s]\n",
      "Finding Elimination Order: : 100%|██████████| 4/4 [00:00<00:00,  4.47it/s]\n",
      "Finding Elimination Order: : 100%|██████████| 4/4 [00:00<00:00,  9.18it/s]\n"
     ]
    },
    {
     "output_type": "stream",
     "name": "stdout",
     "text": [
      "Sweden\n"
     ]
    },
    {
     "output_type": "stream",
     "name": "stderr",
     "text": [
      "Eliminating: Matches: 100%|██████████| 4/4 [00:00<00:00, 110.56it/s]"
     ]
    },
    {
     "output_type": "stream",
     "name": "stdout",
     "text": [
      "+-----------------+-----------------+\n",
      "| Champion        |   phi(Champion) |\n",
      "+=================+=================+\n",
      "| Champion(False) |          0.9568 |\n",
      "+-----------------+-----------------+\n",
      "| Champion(True)  |          0.0432 |\n",
      "+-----------------+-----------------+\n"
     ]
    },
    {
     "output_type": "stream",
     "name": "stderr",
     "text": [
      "\n"
     ]
    }
   ],
   "metadata": {}
  },
  {
   "cell_type": "code",
   "execution_count": 54,
   "source": [
    "Country = 'Switzerland'\r\n",
    "print(Country)\r\n",
    "print(infer.query(variables = ['Champion'], evidence = {'Country': Country}))"
   ],
   "outputs": [
    {
     "output_type": "stream",
     "name": "stdout",
     "text": [
      "Switzerland\n"
     ]
    },
    {
     "output_type": "stream",
     "name": "stderr",
     "text": [
      "\n",
      "\u001b[A\n",
      "\u001b[A\n",
      "\u001b[A\n",
      "\u001b[A\n",
      "Eliminating: Matches: 100%|██████████| 4/4 [00:00<00:00, 80.05it/s]"
     ]
    },
    {
     "output_type": "stream",
     "name": "stdout",
     "text": [
      "+-----------------+-----------------+\n",
      "| Champion        |   phi(Champion) |\n",
      "+=================+=================+\n",
      "| Champion(False) |          0.9505 |\n",
      "+-----------------+-----------------+\n",
      "| Champion(True)  |          0.0495 |\n",
      "+-----------------+-----------------+\n"
     ]
    },
    {
     "output_type": "stream",
     "name": "stderr",
     "text": [
      "\n"
     ]
    }
   ],
   "metadata": {}
  },
  {
   "cell_type": "code",
   "execution_count": 55,
   "source": [
    "Country = 'Turkey'\r\n",
    "print(Country)\r\n",
    "print(infer.query(variables = ['Champion'], evidence = {'Country': Country}))"
   ],
   "outputs": [
    {
     "output_type": "stream",
     "name": "stdout",
     "text": [
      "Turkey\n"
     ]
    },
    {
     "output_type": "stream",
     "name": "stderr",
     "text": [
      "\n",
      "\u001b[A\n",
      "\u001b[A\n",
      "\n",
      "\u001b[A\u001b[A\n",
      "\n",
      "\u001b[A\u001b[A\n",
      "\n",
      "\u001b[A\u001b[A\n",
      "\n",
      "\u001b[A\u001b[A\n",
      "\n",
      "Eliminating: Matches: 100%|██████████| 4/4 [00:00<00:00, 80.05it/s]"
     ]
    },
    {
     "output_type": "stream",
     "name": "stdout",
     "text": [
      "+-----------------+-----------------+\n",
      "| Champion        |   phi(Champion) |\n",
      "+=================+=================+\n",
      "| Champion(False) |          0.9544 |\n",
      "+-----------------+-----------------+\n",
      "| Champion(True)  |          0.0456 |\n",
      "+-----------------+-----------------+\n"
     ]
    },
    {
     "output_type": "stream",
     "name": "stderr",
     "text": [
      "\n"
     ]
    }
   ],
   "metadata": {}
  },
  {
   "cell_type": "code",
   "execution_count": 56,
   "source": [
    "Country = 'Ukraine'\r\n",
    "print(Country)\r\n",
    "print(infer.query(variables = ['Champion'], evidence = {'Country': Country}))"
   ],
   "outputs": [
    {
     "output_type": "stream",
     "name": "stdout",
     "text": [
      "Ukraine\n"
     ]
    },
    {
     "output_type": "stream",
     "name": "stderr",
     "text": [
      "\n",
      "\n",
      "\u001b[A\u001b[A\n",
      "\n",
      "\u001b[A\u001b[A\n",
      "\n",
      "\n",
      "\u001b[A\u001b[A\u001b[A\n",
      "\n",
      "\n",
      "\u001b[A\u001b[A\u001b[A\n",
      "\n",
      "\n",
      "\u001b[A\u001b[A\u001b[A\n",
      "\n",
      "\n",
      "\u001b[A\u001b[A\u001b[A\n",
      "\n",
      "\n",
      "Eliminating: Matches: 100%|██████████| 4/4 [00:00<00:00, 100.04it/s]"
     ]
    },
    {
     "output_type": "stream",
     "name": "stdout",
     "text": [
      "+-----------------+-----------------+\n",
      "| Champion        |   phi(Champion) |\n",
      "+=================+=================+\n",
      "| Champion(False) |          0.9505 |\n",
      "+-----------------+-----------------+\n",
      "| Champion(True)  |          0.0495 |\n",
      "+-----------------+-----------------+\n"
     ]
    },
    {
     "output_type": "stream",
     "name": "stderr",
     "text": [
      "\n"
     ]
    }
   ],
   "metadata": {}
  },
  {
   "cell_type": "code",
   "execution_count": 57,
   "source": [
    "Country = 'Wales'\r\n",
    "print(Country)\r\n",
    "print(infer.query(variables = ['Champion'], evidence = {'Country': Country}))"
   ],
   "outputs": [
    {
     "output_type": "stream",
     "name": "stderr",
     "text": [
      "Finding Elimination Order: : 100%|██████████| 4/4 [00:01<00:00,  2.31it/s]\n",
      "Finding Elimination Order: : 100%|██████████| 4/4 [00:01<00:00,  3.11it/s]\n",
      "Finding Elimination Order: : 100%|██████████| 4/4 [00:00<00:00,  4.74it/s]\n",
      "Finding Elimination Order: : 100%|██████████| 4/4 [00:00<00:00, 10.16it/s]\n"
     ]
    },
    {
     "output_type": "stream",
     "name": "stdout",
     "text": [
      "Wales\n"
     ]
    },
    {
     "output_type": "stream",
     "name": "stderr",
     "text": [
      "Eliminating: Matches: 100%|██████████| 4/4 [00:00<00:00, 153.92it/s]"
     ]
    },
    {
     "output_type": "stream",
     "name": "stdout",
     "text": [
      "+-----------------+-----------------+\n",
      "| Champion        |   phi(Champion) |\n",
      "+=================+=================+\n",
      "| Champion(False) |          0.9661 |\n",
      "+-----------------+-----------------+\n",
      "| Champion(True)  |          0.0339 |\n",
      "+-----------------+-----------------+\n"
     ]
    },
    {
     "output_type": "stream",
     "name": "stderr",
     "text": [
      "\n"
     ]
    }
   ],
   "metadata": {}
  },
  {
   "cell_type": "code",
   "execution_count": 58,
   "source": [
    "Country = 'Yugoslavia'\r\n",
    "print(Country)\r\n",
    "print(infer.query(variables = ['Champion'], evidence = {'Country': Country}))"
   ],
   "outputs": [
    {
     "output_type": "stream",
     "name": "stdout",
     "text": [
      "Yugoslavia\n"
     ]
    },
    {
     "output_type": "stream",
     "name": "stderr",
     "text": [
      "\n",
      "\u001b[A\n",
      "\u001b[A\n",
      "\u001b[A\n",
      "\u001b[A\n",
      "Eliminating: Matches: 100%|██████████| 4/4 [00:00<00:00, 93.07it/s]"
     ]
    },
    {
     "output_type": "stream",
     "name": "stdout",
     "text": [
      "+-----------------+-----------------+\n",
      "| Champion        |   phi(Champion) |\n",
      "+=================+=================+\n",
      "| Champion(False) |          0.8503 |\n",
      "+-----------------+-----------------+\n",
      "| Champion(True)  |          0.1497 |\n",
      "+-----------------+-----------------+\n"
     ]
    },
    {
     "output_type": "stream",
     "name": "stderr",
     "text": [
      "\n"
     ]
    }
   ],
   "metadata": {}
  },
  {
   "cell_type": "code",
   "execution_count": 59,
   "source": [
    "Test1 = Test\r\n",
    "del Test1['HomeMatches']\r\n",
    "del Test1['HomeAveGoalsFor']\r\n",
    "del Test1['HomeAveGoalsAgainst']\r\n",
    "del Test1['AwayMatches']\r\n",
    "del Test1['AwayAveGoalsFor']\r\n",
    "del Test1['AwayAveGoalsAgainst']\r\n",
    "del Test1['Champion']\r\n",
    "del Test1['AveGoalsAgainst']\r\n",
    "del Test1['AveGoalsFor']\r\n",
    "Test1"
   ],
   "outputs": [
    {
     "output_type": "execute_result",
     "data": {
      "text/plain": [
       "                  Country Matches   Host  ChampCount\n",
       "Year                                                \n",
       "1964              Denmark     low  False         0.0\n",
       "1964              Hungary     low  False         0.0\n",
       "1964               Russia     low  False         0.0\n",
       "1964                Spain     low   True         1.0\n",
       "1972              Belgium     low   True         0.0\n",
       "1972              Germany     low  False         1.0\n",
       "1972              Hungary     low  False         0.0\n",
       "1972               Russia     low  False         0.0\n",
       "2012              Croatia     mid  False         0.0\n",
       "2012       Czech Republic     mid  False         0.0\n",
       "2012              Denmark     mid  False         1.0\n",
       "2012              England     mid  False         0.0\n",
       "2012               France     mid  False         3.0\n",
       "2012              Germany     mid  False         1.0\n",
       "2012               Greece     mid  False         0.0\n",
       "2012                Italy    high  False         1.0\n",
       "2012          Netherlands     mid  False         1.0\n",
       "2012               Poland     mid   True         0.0\n",
       "2012             Portugal     mid  False         0.0\n",
       "2012  Republic of Ireland     mid  False         0.0\n",
       "2012               Russia     mid  False         0.0\n",
       "2012                Spain    high  False         2.0\n",
       "2012               Sweden     mid  False         0.0\n",
       "2012              Ukraine     mid   True         0.0"
      ],
      "text/html": [
       "<div>\n",
       "<style scoped>\n",
       "    .dataframe tbody tr th:only-of-type {\n",
       "        vertical-align: middle;\n",
       "    }\n",
       "\n",
       "    .dataframe tbody tr th {\n",
       "        vertical-align: top;\n",
       "    }\n",
       "\n",
       "    .dataframe thead th {\n",
       "        text-align: right;\n",
       "    }\n",
       "</style>\n",
       "<table border=\"1\" class=\"dataframe\">\n",
       "  <thead>\n",
       "    <tr style=\"text-align: right;\">\n",
       "      <th></th>\n",
       "      <th>Country</th>\n",
       "      <th>Matches</th>\n",
       "      <th>Host</th>\n",
       "      <th>ChampCount</th>\n",
       "    </tr>\n",
       "    <tr>\n",
       "      <th>Year</th>\n",
       "      <th></th>\n",
       "      <th></th>\n",
       "      <th></th>\n",
       "      <th></th>\n",
       "    </tr>\n",
       "  </thead>\n",
       "  <tbody>\n",
       "    <tr>\n",
       "      <th>1964</th>\n",
       "      <td>Denmark</td>\n",
       "      <td>low</td>\n",
       "      <td>False</td>\n",
       "      <td>0.0</td>\n",
       "    </tr>\n",
       "    <tr>\n",
       "      <th>1964</th>\n",
       "      <td>Hungary</td>\n",
       "      <td>low</td>\n",
       "      <td>False</td>\n",
       "      <td>0.0</td>\n",
       "    </tr>\n",
       "    <tr>\n",
       "      <th>1964</th>\n",
       "      <td>Russia</td>\n",
       "      <td>low</td>\n",
       "      <td>False</td>\n",
       "      <td>0.0</td>\n",
       "    </tr>\n",
       "    <tr>\n",
       "      <th>1964</th>\n",
       "      <td>Spain</td>\n",
       "      <td>low</td>\n",
       "      <td>True</td>\n",
       "      <td>1.0</td>\n",
       "    </tr>\n",
       "    <tr>\n",
       "      <th>1972</th>\n",
       "      <td>Belgium</td>\n",
       "      <td>low</td>\n",
       "      <td>True</td>\n",
       "      <td>0.0</td>\n",
       "    </tr>\n",
       "    <tr>\n",
       "      <th>1972</th>\n",
       "      <td>Germany</td>\n",
       "      <td>low</td>\n",
       "      <td>False</td>\n",
       "      <td>1.0</td>\n",
       "    </tr>\n",
       "    <tr>\n",
       "      <th>1972</th>\n",
       "      <td>Hungary</td>\n",
       "      <td>low</td>\n",
       "      <td>False</td>\n",
       "      <td>0.0</td>\n",
       "    </tr>\n",
       "    <tr>\n",
       "      <th>1972</th>\n",
       "      <td>Russia</td>\n",
       "      <td>low</td>\n",
       "      <td>False</td>\n",
       "      <td>0.0</td>\n",
       "    </tr>\n",
       "    <tr>\n",
       "      <th>2012</th>\n",
       "      <td>Croatia</td>\n",
       "      <td>mid</td>\n",
       "      <td>False</td>\n",
       "      <td>0.0</td>\n",
       "    </tr>\n",
       "    <tr>\n",
       "      <th>2012</th>\n",
       "      <td>Czech Republic</td>\n",
       "      <td>mid</td>\n",
       "      <td>False</td>\n",
       "      <td>0.0</td>\n",
       "    </tr>\n",
       "    <tr>\n",
       "      <th>2012</th>\n",
       "      <td>Denmark</td>\n",
       "      <td>mid</td>\n",
       "      <td>False</td>\n",
       "      <td>1.0</td>\n",
       "    </tr>\n",
       "    <tr>\n",
       "      <th>2012</th>\n",
       "      <td>England</td>\n",
       "      <td>mid</td>\n",
       "      <td>False</td>\n",
       "      <td>0.0</td>\n",
       "    </tr>\n",
       "    <tr>\n",
       "      <th>2012</th>\n",
       "      <td>France</td>\n",
       "      <td>mid</td>\n",
       "      <td>False</td>\n",
       "      <td>3.0</td>\n",
       "    </tr>\n",
       "    <tr>\n",
       "      <th>2012</th>\n",
       "      <td>Germany</td>\n",
       "      <td>mid</td>\n",
       "      <td>False</td>\n",
       "      <td>1.0</td>\n",
       "    </tr>\n",
       "    <tr>\n",
       "      <th>2012</th>\n",
       "      <td>Greece</td>\n",
       "      <td>mid</td>\n",
       "      <td>False</td>\n",
       "      <td>0.0</td>\n",
       "    </tr>\n",
       "    <tr>\n",
       "      <th>2012</th>\n",
       "      <td>Italy</td>\n",
       "      <td>high</td>\n",
       "      <td>False</td>\n",
       "      <td>1.0</td>\n",
       "    </tr>\n",
       "    <tr>\n",
       "      <th>2012</th>\n",
       "      <td>Netherlands</td>\n",
       "      <td>mid</td>\n",
       "      <td>False</td>\n",
       "      <td>1.0</td>\n",
       "    </tr>\n",
       "    <tr>\n",
       "      <th>2012</th>\n",
       "      <td>Poland</td>\n",
       "      <td>mid</td>\n",
       "      <td>True</td>\n",
       "      <td>0.0</td>\n",
       "    </tr>\n",
       "    <tr>\n",
       "      <th>2012</th>\n",
       "      <td>Portugal</td>\n",
       "      <td>mid</td>\n",
       "      <td>False</td>\n",
       "      <td>0.0</td>\n",
       "    </tr>\n",
       "    <tr>\n",
       "      <th>2012</th>\n",
       "      <td>Republic of Ireland</td>\n",
       "      <td>mid</td>\n",
       "      <td>False</td>\n",
       "      <td>0.0</td>\n",
       "    </tr>\n",
       "    <tr>\n",
       "      <th>2012</th>\n",
       "      <td>Russia</td>\n",
       "      <td>mid</td>\n",
       "      <td>False</td>\n",
       "      <td>0.0</td>\n",
       "    </tr>\n",
       "    <tr>\n",
       "      <th>2012</th>\n",
       "      <td>Spain</td>\n",
       "      <td>high</td>\n",
       "      <td>False</td>\n",
       "      <td>2.0</td>\n",
       "    </tr>\n",
       "    <tr>\n",
       "      <th>2012</th>\n",
       "      <td>Sweden</td>\n",
       "      <td>mid</td>\n",
       "      <td>False</td>\n",
       "      <td>0.0</td>\n",
       "    </tr>\n",
       "    <tr>\n",
       "      <th>2012</th>\n",
       "      <td>Ukraine</td>\n",
       "      <td>mid</td>\n",
       "      <td>True</td>\n",
       "      <td>0.0</td>\n",
       "    </tr>\n",
       "  </tbody>\n",
       "</table>\n",
       "</div>"
      ]
     },
     "metadata": {},
     "execution_count": 59
    }
   ],
   "metadata": {}
  },
  {
   "cell_type": "code",
   "execution_count": 60,
   "source": [
    "y = Test1.index.values\r\n",
    "y = np.unique(y)\r\n",
    "for i in y:\r\n",
    "    print(model.predict(Test1.loc[i]))"
   ],
   "outputs": [
    {
     "output_type": "stream",
     "name": "stderr",
     "text": [
      "\n",
      "Finding Elimination Order: : 100%|██████████| 4/4 [00:00<00:00,  4.38it/s]\n",
      "Finding Elimination Order: : 100%|██████████| 4/4 [00:00<00:00,  8.17it/s]\n",
      "100%|██████████| 4/4 [00:00<00:00, 57.18it/s]\n"
     ]
    },
    {
     "output_type": "stream",
     "name": "stdout",
     "text": [
      "   Champion AveGoalsFor\n",
      "0     False         low\n",
      "1     False         mid\n",
      "2     False         low\n",
      "3     False         low\n"
     ]
    },
    {
     "output_type": "stream",
     "name": "stderr",
     "text": [
      "100%|██████████| 4/4 [00:00<00:00, 800.40it/s]\n"
     ]
    },
    {
     "output_type": "stream",
     "name": "stdout",
     "text": [
      "   Champion AveGoalsFor\n",
      "0     False         mid\n",
      "1      True         mid\n",
      "2     False         mid\n",
      "3     False         low\n"
     ]
    },
    {
     "output_type": "stream",
     "name": "stderr",
     "text": [
      "100%|██████████| 16/16 [00:00<00:00, 89.94it/s]\n"
     ]
    },
    {
     "output_type": "stream",
     "name": "stdout",
     "text": [
      "    Champion AveGoalsFor\n",
      "0      False         mid\n",
      "1      False         mid\n",
      "2      False         low\n",
      "3      False         low\n",
      "4      False         mid\n",
      "5      False         mid\n",
      "6      False         low\n",
      "7      False         low\n",
      "8      False         mid\n",
      "9      False         low\n",
      "10     False         mid\n",
      "11     False         low\n",
      "12     False         mid\n",
      "13      True         mid\n",
      "14     False         low\n",
      "15     False         low\n"
     ]
    }
   ],
   "metadata": {}
  },
  {
   "cell_type": "code",
   "execution_count": 61,
   "source": [
    "del Train2['HomeMatches']\r\n",
    "del Train2['HomeAveGoalsFor']\r\n",
    "del Train2['HomeAveGoalsAgainst']\r\n",
    "del Train2['AwayMatches']\r\n",
    "del Train2['AwayAveGoalsFor']\r\n",
    "del Train2['AwayAveGoalsAgainst']\r\n",
    "Train2"
   ],
   "outputs": [
    {
     "output_type": "execute_result",
     "data": {
      "text/plain": [
       "             Country Matches AveGoalsFor AveGoalsAgainst   Host  ChampCount  \\\n",
       "Year                                                                          \n",
       "1960  Czechoslovakia     low         low             mid  False         0.0   \n",
       "1960          France     low         mid            high   True         0.0   \n",
       "1960          Russia     low         mid             low  False         0.0   \n",
       "1960      Yugoslavia     low        high            high  False         0.0   \n",
       "1968         England     low         low             low  False         0.0   \n",
       "...              ...     ...         ...             ...    ...         ...   \n",
       "2016          Sweden     mid         low             low  False         0.0   \n",
       "2016     Switzerland     mid         low             low  False         0.0   \n",
       "2016          Turkey     mid         low             mid  False         0.0   \n",
       "2016         Ukraine     mid         low             mid  False         0.0   \n",
       "2016           Wales    high         mid             low  False         0.0   \n",
       "\n",
       "      Champion  \n",
       "Year            \n",
       "1960     False  \n",
       "1960     False  \n",
       "1960      True  \n",
       "1960     False  \n",
       "1968     False  \n",
       "...        ...  \n",
       "2016     False  \n",
       "2016     False  \n",
       "2016     False  \n",
       "2016     False  \n",
       "2016     False  \n",
       "\n",
       "[132 rows x 7 columns]"
      ],
      "text/html": [
       "<div>\n",
       "<style scoped>\n",
       "    .dataframe tbody tr th:only-of-type {\n",
       "        vertical-align: middle;\n",
       "    }\n",
       "\n",
       "    .dataframe tbody tr th {\n",
       "        vertical-align: top;\n",
       "    }\n",
       "\n",
       "    .dataframe thead th {\n",
       "        text-align: right;\n",
       "    }\n",
       "</style>\n",
       "<table border=\"1\" class=\"dataframe\">\n",
       "  <thead>\n",
       "    <tr style=\"text-align: right;\">\n",
       "      <th></th>\n",
       "      <th>Country</th>\n",
       "      <th>Matches</th>\n",
       "      <th>AveGoalsFor</th>\n",
       "      <th>AveGoalsAgainst</th>\n",
       "      <th>Host</th>\n",
       "      <th>ChampCount</th>\n",
       "      <th>Champion</th>\n",
       "    </tr>\n",
       "    <tr>\n",
       "      <th>Year</th>\n",
       "      <th></th>\n",
       "      <th></th>\n",
       "      <th></th>\n",
       "      <th></th>\n",
       "      <th></th>\n",
       "      <th></th>\n",
       "      <th></th>\n",
       "    </tr>\n",
       "  </thead>\n",
       "  <tbody>\n",
       "    <tr>\n",
       "      <th>1960</th>\n",
       "      <td>Czechoslovakia</td>\n",
       "      <td>low</td>\n",
       "      <td>low</td>\n",
       "      <td>mid</td>\n",
       "      <td>False</td>\n",
       "      <td>0.0</td>\n",
       "      <td>False</td>\n",
       "    </tr>\n",
       "    <tr>\n",
       "      <th>1960</th>\n",
       "      <td>France</td>\n",
       "      <td>low</td>\n",
       "      <td>mid</td>\n",
       "      <td>high</td>\n",
       "      <td>True</td>\n",
       "      <td>0.0</td>\n",
       "      <td>False</td>\n",
       "    </tr>\n",
       "    <tr>\n",
       "      <th>1960</th>\n",
       "      <td>Russia</td>\n",
       "      <td>low</td>\n",
       "      <td>mid</td>\n",
       "      <td>low</td>\n",
       "      <td>False</td>\n",
       "      <td>0.0</td>\n",
       "      <td>True</td>\n",
       "    </tr>\n",
       "    <tr>\n",
       "      <th>1960</th>\n",
       "      <td>Yugoslavia</td>\n",
       "      <td>low</td>\n",
       "      <td>high</td>\n",
       "      <td>high</td>\n",
       "      <td>False</td>\n",
       "      <td>0.0</td>\n",
       "      <td>False</td>\n",
       "    </tr>\n",
       "    <tr>\n",
       "      <th>1968</th>\n",
       "      <td>England</td>\n",
       "      <td>low</td>\n",
       "      <td>low</td>\n",
       "      <td>low</td>\n",
       "      <td>False</td>\n",
       "      <td>0.0</td>\n",
       "      <td>False</td>\n",
       "    </tr>\n",
       "    <tr>\n",
       "      <th>...</th>\n",
       "      <td>...</td>\n",
       "      <td>...</td>\n",
       "      <td>...</td>\n",
       "      <td>...</td>\n",
       "      <td>...</td>\n",
       "      <td>...</td>\n",
       "      <td>...</td>\n",
       "    </tr>\n",
       "    <tr>\n",
       "      <th>2016</th>\n",
       "      <td>Sweden</td>\n",
       "      <td>mid</td>\n",
       "      <td>low</td>\n",
       "      <td>low</td>\n",
       "      <td>False</td>\n",
       "      <td>0.0</td>\n",
       "      <td>False</td>\n",
       "    </tr>\n",
       "    <tr>\n",
       "      <th>2016</th>\n",
       "      <td>Switzerland</td>\n",
       "      <td>mid</td>\n",
       "      <td>low</td>\n",
       "      <td>low</td>\n",
       "      <td>False</td>\n",
       "      <td>0.0</td>\n",
       "      <td>False</td>\n",
       "    </tr>\n",
       "    <tr>\n",
       "      <th>2016</th>\n",
       "      <td>Turkey</td>\n",
       "      <td>mid</td>\n",
       "      <td>low</td>\n",
       "      <td>mid</td>\n",
       "      <td>False</td>\n",
       "      <td>0.0</td>\n",
       "      <td>False</td>\n",
       "    </tr>\n",
       "    <tr>\n",
       "      <th>2016</th>\n",
       "      <td>Ukraine</td>\n",
       "      <td>mid</td>\n",
       "      <td>low</td>\n",
       "      <td>mid</td>\n",
       "      <td>False</td>\n",
       "      <td>0.0</td>\n",
       "      <td>False</td>\n",
       "    </tr>\n",
       "    <tr>\n",
       "      <th>2016</th>\n",
       "      <td>Wales</td>\n",
       "      <td>high</td>\n",
       "      <td>mid</td>\n",
       "      <td>low</td>\n",
       "      <td>False</td>\n",
       "      <td>0.0</td>\n",
       "      <td>False</td>\n",
       "    </tr>\n",
       "  </tbody>\n",
       "</table>\n",
       "<p>132 rows × 7 columns</p>\n",
       "</div>"
      ]
     },
     "metadata": {},
     "execution_count": 61
    }
   ],
   "metadata": {}
  },
  {
   "cell_type": "code",
   "execution_count": 62,
   "source": [
    "model1 = BayesianModel([('Country', 'AveGoalsFor'), ('Country', 'ChampCount'), ('AveGoalsFor', 'Champion'), ('Host', 'Champion'), ('ChampCount', 'Champion'), ('Matches', 'Champion'),('Country', 'AveGoalsAgainst')])\r\n",
    "model1.fit(Train2, estimator = MaximumLikelihoodEstimator)\r\n",
    "model1.check_model()"
   ],
   "outputs": [
    {
     "output_type": "execute_result",
     "data": {
      "text/plain": [
       "True"
      ]
     },
     "metadata": {},
     "execution_count": 62
    }
   ],
   "metadata": {}
  },
  {
   "cell_type": "code",
   "execution_count": 63,
   "source": [
    "y = Test1.index.values\r\n",
    "y = np.unique(y)\r\n",
    "for i in y:\r\n",
    "    print(model1.predict(Test1.loc[i]))"
   ],
   "outputs": [
    {
     "output_type": "stream",
     "name": "stderr",
     "text": [
      "100%|██████████| 4/4 [00:00<00:00, 444.65it/s]\n"
     ]
    },
    {
     "output_type": "stream",
     "name": "stdout",
     "text": [
      "   Champion AveGoalsFor AveGoalsAgainst\n",
      "0     False         low             mid\n",
      "1     False         mid             mid\n",
      "2     False         low             low\n",
      "3     False         low             low\n"
     ]
    },
    {
     "output_type": "stream",
     "name": "stderr",
     "text": [
      "100%|██████████| 4/4 [00:00<00:00, 800.40it/s]"
     ]
    },
    {
     "output_type": "stream",
     "name": "stdout",
     "text": [
      "   Champion AveGoalsFor AveGoalsAgainst\n",
      "0     False         mid             low\n",
      "1      True         mid             low\n",
      "2     False         mid             mid\n",
      "3     False         low             low"
     ]
    },
    {
     "output_type": "stream",
     "name": "stderr",
     "text": [
      "\n"
     ]
    },
    {
     "output_type": "stream",
     "name": "stdout",
     "text": [
      "\n"
     ]
    },
    {
     "output_type": "stream",
     "name": "stderr",
     "text": [
      "100%|██████████| 16/16 [00:00<00:00, 82.10it/s]\n"
     ]
    },
    {
     "output_type": "stream",
     "name": "stdout",
     "text": [
      "    Champion AveGoalsFor AveGoalsAgainst\n",
      "0      False         mid             low\n",
      "1      False         mid             mid\n",
      "2      False         low             mid\n",
      "3      False         low             low\n",
      "4      False         mid             low\n",
      "5      False         mid             low\n",
      "6      False         low             mid\n",
      "7      False         low             low\n",
      "8      False         mid             low\n",
      "9      False         low             low\n",
      "10     False         mid             low\n",
      "11     False         low             low\n",
      "12     False         mid             low\n",
      "13      True         mid             low\n",
      "14     False         low             mid\n",
      "15     False         low             mid\n"
     ]
    }
   ],
   "metadata": {}
  },
  {
   "cell_type": "code",
   "execution_count": 67,
   "source": [
    "MatchesTrain"
   ],
   "outputs": [
    {
     "output_type": "execute_result",
     "data": {
      "text/plain": [
       "       HomeTeamName         AwayTeamName  HomeTeamGoals  AwayTeamGoals  \\\n",
       "0           Ukraine     Northern Ireland              0              2   \n",
       "1          Portugal              Austria              0              0   \n",
       "2       Switzerland       Czech Republic              0              1   \n",
       "3             Italy              Romania              2              0   \n",
       "4           Germany             Portugal              0              0   \n",
       "..              ...                  ...            ...            ...   \n",
       "224          France          Netherlands              0              0   \n",
       "225        Portugal              Germany              2              3   \n",
       "226         England          Switzerland              3              0   \n",
       "227  Czech Republic               Latvia              2              1   \n",
       "228           Italy  Republic of Ireland              2              0   \n",
       "\n",
       "     HomeWin  \n",
       "0      False  \n",
       "1      False  \n",
       "2      False  \n",
       "3       True  \n",
       "4      False  \n",
       "..       ...  \n",
       "224     True  \n",
       "225    False  \n",
       "226     True  \n",
       "227     True  \n",
       "228     True  \n",
       "\n",
       "[229 rows x 5 columns]"
      ],
      "text/html": [
       "<div>\n",
       "<style scoped>\n",
       "    .dataframe tbody tr th:only-of-type {\n",
       "        vertical-align: middle;\n",
       "    }\n",
       "\n",
       "    .dataframe tbody tr th {\n",
       "        vertical-align: top;\n",
       "    }\n",
       "\n",
       "    .dataframe thead th {\n",
       "        text-align: right;\n",
       "    }\n",
       "</style>\n",
       "<table border=\"1\" class=\"dataframe\">\n",
       "  <thead>\n",
       "    <tr style=\"text-align: right;\">\n",
       "      <th></th>\n",
       "      <th>HomeTeamName</th>\n",
       "      <th>AwayTeamName</th>\n",
       "      <th>HomeTeamGoals</th>\n",
       "      <th>AwayTeamGoals</th>\n",
       "      <th>HomeWin</th>\n",
       "    </tr>\n",
       "  </thead>\n",
       "  <tbody>\n",
       "    <tr>\n",
       "      <th>0</th>\n",
       "      <td>Ukraine</td>\n",
       "      <td>Northern Ireland</td>\n",
       "      <td>0</td>\n",
       "      <td>2</td>\n",
       "      <td>False</td>\n",
       "    </tr>\n",
       "    <tr>\n",
       "      <th>1</th>\n",
       "      <td>Portugal</td>\n",
       "      <td>Austria</td>\n",
       "      <td>0</td>\n",
       "      <td>0</td>\n",
       "      <td>False</td>\n",
       "    </tr>\n",
       "    <tr>\n",
       "      <th>2</th>\n",
       "      <td>Switzerland</td>\n",
       "      <td>Czech Republic</td>\n",
       "      <td>0</td>\n",
       "      <td>1</td>\n",
       "      <td>False</td>\n",
       "    </tr>\n",
       "    <tr>\n",
       "      <th>3</th>\n",
       "      <td>Italy</td>\n",
       "      <td>Romania</td>\n",
       "      <td>2</td>\n",
       "      <td>0</td>\n",
       "      <td>True</td>\n",
       "    </tr>\n",
       "    <tr>\n",
       "      <th>4</th>\n",
       "      <td>Germany</td>\n",
       "      <td>Portugal</td>\n",
       "      <td>0</td>\n",
       "      <td>0</td>\n",
       "      <td>False</td>\n",
       "    </tr>\n",
       "    <tr>\n",
       "      <th>...</th>\n",
       "      <td>...</td>\n",
       "      <td>...</td>\n",
       "      <td>...</td>\n",
       "      <td>...</td>\n",
       "      <td>...</td>\n",
       "    </tr>\n",
       "    <tr>\n",
       "      <th>224</th>\n",
       "      <td>France</td>\n",
       "      <td>Netherlands</td>\n",
       "      <td>0</td>\n",
       "      <td>0</td>\n",
       "      <td>True</td>\n",
       "    </tr>\n",
       "    <tr>\n",
       "      <th>225</th>\n",
       "      <td>Portugal</td>\n",
       "      <td>Germany</td>\n",
       "      <td>2</td>\n",
       "      <td>3</td>\n",
       "      <td>False</td>\n",
       "    </tr>\n",
       "    <tr>\n",
       "      <th>226</th>\n",
       "      <td>England</td>\n",
       "      <td>Switzerland</td>\n",
       "      <td>3</td>\n",
       "      <td>0</td>\n",
       "      <td>True</td>\n",
       "    </tr>\n",
       "    <tr>\n",
       "      <th>227</th>\n",
       "      <td>Czech Republic</td>\n",
       "      <td>Latvia</td>\n",
       "      <td>2</td>\n",
       "      <td>1</td>\n",
       "      <td>True</td>\n",
       "    </tr>\n",
       "    <tr>\n",
       "      <th>228</th>\n",
       "      <td>Italy</td>\n",
       "      <td>Republic of Ireland</td>\n",
       "      <td>2</td>\n",
       "      <td>0</td>\n",
       "      <td>True</td>\n",
       "    </tr>\n",
       "  </tbody>\n",
       "</table>\n",
       "<p>229 rows × 5 columns</p>\n",
       "</div>"
      ]
     },
     "metadata": {},
     "execution_count": 67
    }
   ],
   "metadata": {}
  },
  {
   "cell_type": "code",
   "execution_count": 68,
   "source": [
    "model2 = BayesianModel([('HomeTeamName', 'HomeTeamGoals'),('HomeTeamName', 'AwayTeamGoals'),('AwayTeamName', 'HomeTeamGoals'), ('AwayTeamName', 'AwayTeamGoals'), ('HomeTeamGoals', 'HomeWin'),('AwayTeamGoals', 'HomeWin')])\r\n",
    "model2.fit(MatchesTrain, estimator = MaximumLikelihoodEstimator)\r\n",
    "model2.check_model()"
   ],
   "outputs": [
    {
     "output_type": "execute_result",
     "data": {
      "text/plain": [
       "True"
      ]
     },
     "metadata": {},
     "execution_count": 68
    }
   ],
   "metadata": {}
  },
  {
   "cell_type": "code",
   "execution_count": 82,
   "source": [
    "def Winner(model, Home, Away, threshold):\r\n",
    "    d = {'HomeTeamName': [Home], 'AwayTeamName': [Away]}\r\n",
    "    df = pd.DataFrame(data=d)\r\n",
    "    data = model.predict_probability(df)\r\n",
    "    if data.iloc[0]['HomeWin_True'] >= threshold:\r\n",
    "        print(Home)\r\n",
    "    else:\r\n",
    "        print(Away)"
   ],
   "outputs": [],
   "metadata": {}
  },
  {
   "cell_type": "code",
   "execution_count": 85,
   "source": [
    "Winner(model2, 'Spain', 'Germany', 0.3)"
   ],
   "outputs": [
    {
     "output_type": "stream",
     "name": "stdout",
     "text": [
      "Spain\n"
     ]
    }
   ],
   "metadata": {}
  }
 ],
 "metadata": {
  "orig_nbformat": 4,
  "language_info": {
   "name": "python",
   "version": "3.9.6",
   "mimetype": "text/x-python",
   "codemirror_mode": {
    "name": "ipython",
    "version": 3
   },
   "pygments_lexer": "ipython3",
   "nbconvert_exporter": "python",
   "file_extension": ".py"
  },
  "kernelspec": {
   "name": "python3",
   "display_name": "Python 3.9.6 64-bit"
  },
  "interpreter": {
   "hash": "74e6bf841c3050e08f87cd4b3525c5b9f52aada5321c169444d2ef913ae089ad"
  }
 },
 "nbformat": 4,
 "nbformat_minor": 2
}